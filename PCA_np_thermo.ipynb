{
 "cells": [
  {
   "cell_type": "code",
   "execution_count": 100,
   "id": "e933760a-a861-437c-959c-9ad0cd0dfbb4",
   "metadata": {},
   "outputs": [],
   "source": [
    "import pandas as pd #For creating DataFrame\n",
    "import numpy as np #For numerical operations\n",
    "import seaborn as sns #For plotting the data\n",
    "import matplotlib.pyplot as plt #For plotting the data\n",
    "import os #For interacting with Operating System\n",
    "from sklearn.preprocessing import StandardScaler #For scaling the data\n",
    "from sklearn.decomposition import PCA #For Principal Component Analysis\n",
    "from mpl_toolkits.mplot3d import Axes3D #For creating 3D Plot of the PCA\n",
    "import plotly.graph_objects as go #For interactive 3D Plot"
   ]
  },
  {
   "cell_type": "code",
   "execution_count": 102,
   "id": "ea3c25c7-fa2d-48ca-b661-199f9eac0127",
   "metadata": {},
   "outputs": [],
   "source": [
    "data=pd.read_csv('thermodynamics.csv') #Loading the dataset"
   ]
  },
  {
   "cell_type": "code",
   "execution_count": 104,
   "id": "8c83bbd1-fc68-4587-9b43-cfc2ce74f8ce",
   "metadata": {},
   "outputs": [
    {
     "data": {
      "text/html": [
       "<div>\n",
       "<style scoped>\n",
       "    .dataframe tbody tr th:only-of-type {\n",
       "        vertical-align: middle;\n",
       "    }\n",
       "\n",
       "    .dataframe tbody tr th {\n",
       "        vertical-align: top;\n",
       "    }\n",
       "\n",
       "    .dataframe thead th {\n",
       "        text-align: right;\n",
       "    }\n",
       "</style>\n",
       "<table border=\"1\" class=\"dataframe\">\n",
       "  <thead>\n",
       "    <tr style=\"text-align: right;\">\n",
       "      <th></th>\n",
       "      <th>Step</th>\n",
       "      <th>Time</th>\n",
       "      <th>Volume</th>\n",
       "      <th>Temperature</th>\n",
       "      <th>Pressure</th>\n",
       "      <th>Kinetic</th>\n",
       "      <th>Potential</th>\n",
       "      <th>Energy</th>\n",
       "      <th>Density</th>\n",
       "    </tr>\n",
       "  </thead>\n",
       "  <tbody>\n",
       "    <tr>\n",
       "      <th>0</th>\n",
       "      <td>1</td>\n",
       "      <td>0.5</td>\n",
       "      <td>9194.67</td>\n",
       "      <td>292.503</td>\n",
       "      <td>2186.980</td>\n",
       "      <td>807.017</td>\n",
       "      <td>-2647.57</td>\n",
       "      <td>-1840.56</td>\n",
       "      <td>1.005360</td>\n",
       "    </tr>\n",
       "    <tr>\n",
       "      <th>1</th>\n",
       "      <td>2</td>\n",
       "      <td>1.0</td>\n",
       "      <td>9302.99</td>\n",
       "      <td>293.461</td>\n",
       "      <td>-1257.580</td>\n",
       "      <td>809.662</td>\n",
       "      <td>-2629.40</td>\n",
       "      <td>-1819.74</td>\n",
       "      <td>0.993652</td>\n",
       "    </tr>\n",
       "    <tr>\n",
       "      <th>2</th>\n",
       "      <td>3</td>\n",
       "      <td>1.5</td>\n",
       "      <td>9113.69</td>\n",
       "      <td>298.554</td>\n",
       "      <td>-3301.230</td>\n",
       "      <td>823.711</td>\n",
       "      <td>-2628.33</td>\n",
       "      <td>-1804.62</td>\n",
       "      <td>1.014290</td>\n",
       "    </tr>\n",
       "    <tr>\n",
       "      <th>3</th>\n",
       "      <td>4</td>\n",
       "      <td>2.0</td>\n",
       "      <td>9198.38</td>\n",
       "      <td>302.528</td>\n",
       "      <td>-4657.720</td>\n",
       "      <td>834.677</td>\n",
       "      <td>-2629.24</td>\n",
       "      <td>-1794.57</td>\n",
       "      <td>1.004950</td>\n",
       "    </tr>\n",
       "    <tr>\n",
       "      <th>4</th>\n",
       "      <td>5</td>\n",
       "      <td>2.5</td>\n",
       "      <td>9130.54</td>\n",
       "      <td>290.567</td>\n",
       "      <td>-710.977</td>\n",
       "      <td>801.676</td>\n",
       "      <td>-2591.64</td>\n",
       "      <td>-1789.97</td>\n",
       "      <td>1.012420</td>\n",
       "    </tr>\n",
       "    <tr>\n",
       "      <th>...</th>\n",
       "      <td>...</td>\n",
       "      <td>...</td>\n",
       "      <td>...</td>\n",
       "      <td>...</td>\n",
       "      <td>...</td>\n",
       "      <td>...</td>\n",
       "      <td>...</td>\n",
       "      <td>...</td>\n",
       "      <td>...</td>\n",
       "    </tr>\n",
       "    <tr>\n",
       "      <th>194</th>\n",
       "      <td>195</td>\n",
       "      <td>97.5</td>\n",
       "      <td>9192.93</td>\n",
       "      <td>297.812</td>\n",
       "      <td>1134.070</td>\n",
       "      <td>821.665</td>\n",
       "      <td>-2642.75</td>\n",
       "      <td>-1821.08</td>\n",
       "      <td>1.005550</td>\n",
       "    </tr>\n",
       "    <tr>\n",
       "      <th>195</th>\n",
       "      <td>196</td>\n",
       "      <td>98.0</td>\n",
       "      <td>9337.59</td>\n",
       "      <td>296.965</td>\n",
       "      <td>-1927.790</td>\n",
       "      <td>819.329</td>\n",
       "      <td>-2596.11</td>\n",
       "      <td>-1776.78</td>\n",
       "      <td>0.989970</td>\n",
       "    </tr>\n",
       "    <tr>\n",
       "      <th>196</th>\n",
       "      <td>197</td>\n",
       "      <td>98.5</td>\n",
       "      <td>9119.26</td>\n",
       "      <td>309.630</td>\n",
       "      <td>-1103.290</td>\n",
       "      <td>854.271</td>\n",
       "      <td>-2628.38</td>\n",
       "      <td>-1774.11</td>\n",
       "      <td>1.013670</td>\n",
       "    </tr>\n",
       "    <tr>\n",
       "      <th>197</th>\n",
       "      <td>198</td>\n",
       "      <td>99.0</td>\n",
       "      <td>9022.08</td>\n",
       "      <td>295.689</td>\n",
       "      <td>1359.530</td>\n",
       "      <td>815.807</td>\n",
       "      <td>-2629.19</td>\n",
       "      <td>-1813.38</td>\n",
       "      <td>1.024590</td>\n",
       "    </tr>\n",
       "    <tr>\n",
       "      <th>198</th>\n",
       "      <td>199</td>\n",
       "      <td>99.5</td>\n",
       "      <td>8865.98</td>\n",
       "      <td>300.846</td>\n",
       "      <td>2497.790</td>\n",
       "      <td>830.037</td>\n",
       "      <td>-2690.37</td>\n",
       "      <td>-1860.33</td>\n",
       "      <td>1.042630</td>\n",
       "    </tr>\n",
       "  </tbody>\n",
       "</table>\n",
       "<p>199 rows × 9 columns</p>\n",
       "</div>"
      ],
      "text/plain": [
       "     Step  Time   Volume  Temperature  Pressure  Kinetic  Potential   Energy  \\\n",
       "0       1   0.5  9194.67      292.503  2186.980  807.017   -2647.57 -1840.56   \n",
       "1       2   1.0  9302.99      293.461 -1257.580  809.662   -2629.40 -1819.74   \n",
       "2       3   1.5  9113.69      298.554 -3301.230  823.711   -2628.33 -1804.62   \n",
       "3       4   2.0  9198.38      302.528 -4657.720  834.677   -2629.24 -1794.57   \n",
       "4       5   2.5  9130.54      290.567  -710.977  801.676   -2591.64 -1789.97   \n",
       "..    ...   ...      ...          ...       ...      ...        ...      ...   \n",
       "194   195  97.5  9192.93      297.812  1134.070  821.665   -2642.75 -1821.08   \n",
       "195   196  98.0  9337.59      296.965 -1927.790  819.329   -2596.11 -1776.78   \n",
       "196   197  98.5  9119.26      309.630 -1103.290  854.271   -2628.38 -1774.11   \n",
       "197   198  99.0  9022.08      295.689  1359.530  815.807   -2629.19 -1813.38   \n",
       "198   199  99.5  8865.98      300.846  2497.790  830.037   -2690.37 -1860.33   \n",
       "\n",
       "      Density  \n",
       "0    1.005360  \n",
       "1    0.993652  \n",
       "2    1.014290  \n",
       "3    1.004950  \n",
       "4    1.012420  \n",
       "..        ...  \n",
       "194  1.005550  \n",
       "195  0.989970  \n",
       "196  1.013670  \n",
       "197  1.024590  \n",
       "198  1.042630  \n",
       "\n",
       "[199 rows x 9 columns]"
      ]
     },
     "execution_count": 104,
     "metadata": {},
     "output_type": "execute_result"
    }
   ],
   "source": [
    "data #For printing the data"
   ]
  },
  {
   "cell_type": "code",
   "execution_count": 106,
   "id": "8a0271db-c4f4-4ce5-93ba-4f740bc84491",
   "metadata": {},
   "outputs": [
    {
     "data": {
      "text/html": [
       "<div>\n",
       "<style scoped>\n",
       "    .dataframe tbody tr th:only-of-type {\n",
       "        vertical-align: middle;\n",
       "    }\n",
       "\n",
       "    .dataframe tbody tr th {\n",
       "        vertical-align: top;\n",
       "    }\n",
       "\n",
       "    .dataframe thead th {\n",
       "        text-align: right;\n",
       "    }\n",
       "</style>\n",
       "<table border=\"1\" class=\"dataframe\">\n",
       "  <thead>\n",
       "    <tr style=\"text-align: right;\">\n",
       "      <th></th>\n",
       "      <th>Step</th>\n",
       "      <th>Time</th>\n",
       "      <th>Volume</th>\n",
       "      <th>Temperature</th>\n",
       "      <th>Pressure</th>\n",
       "      <th>Kinetic</th>\n",
       "      <th>Potential</th>\n",
       "      <th>Energy</th>\n",
       "      <th>Density</th>\n",
       "    </tr>\n",
       "  </thead>\n",
       "  <tbody>\n",
       "    <tr>\n",
       "      <th>0</th>\n",
       "      <td>1</td>\n",
       "      <td>0.5</td>\n",
       "      <td>9194.67</td>\n",
       "      <td>292.503</td>\n",
       "      <td>2186.980</td>\n",
       "      <td>807.017</td>\n",
       "      <td>-2647.57</td>\n",
       "      <td>-1840.56</td>\n",
       "      <td>1.005360</td>\n",
       "    </tr>\n",
       "    <tr>\n",
       "      <th>1</th>\n",
       "      <td>2</td>\n",
       "      <td>1.0</td>\n",
       "      <td>9302.99</td>\n",
       "      <td>293.461</td>\n",
       "      <td>-1257.580</td>\n",
       "      <td>809.662</td>\n",
       "      <td>-2629.40</td>\n",
       "      <td>-1819.74</td>\n",
       "      <td>0.993652</td>\n",
       "    </tr>\n",
       "    <tr>\n",
       "      <th>2</th>\n",
       "      <td>3</td>\n",
       "      <td>1.5</td>\n",
       "      <td>9113.69</td>\n",
       "      <td>298.554</td>\n",
       "      <td>-3301.230</td>\n",
       "      <td>823.711</td>\n",
       "      <td>-2628.33</td>\n",
       "      <td>-1804.62</td>\n",
       "      <td>1.014290</td>\n",
       "    </tr>\n",
       "    <tr>\n",
       "      <th>3</th>\n",
       "      <td>4</td>\n",
       "      <td>2.0</td>\n",
       "      <td>9198.38</td>\n",
       "      <td>302.528</td>\n",
       "      <td>-4657.720</td>\n",
       "      <td>834.677</td>\n",
       "      <td>-2629.24</td>\n",
       "      <td>-1794.57</td>\n",
       "      <td>1.004950</td>\n",
       "    </tr>\n",
       "    <tr>\n",
       "      <th>4</th>\n",
       "      <td>5</td>\n",
       "      <td>2.5</td>\n",
       "      <td>9130.54</td>\n",
       "      <td>290.567</td>\n",
       "      <td>-710.977</td>\n",
       "      <td>801.676</td>\n",
       "      <td>-2591.64</td>\n",
       "      <td>-1789.97</td>\n",
       "      <td>1.012420</td>\n",
       "    </tr>\n",
       "  </tbody>\n",
       "</table>\n",
       "</div>"
      ],
      "text/plain": [
       "   Step  Time   Volume  Temperature  Pressure  Kinetic  Potential   Energy  \\\n",
       "0     1   0.5  9194.67      292.503  2186.980  807.017   -2647.57 -1840.56   \n",
       "1     2   1.0  9302.99      293.461 -1257.580  809.662   -2629.40 -1819.74   \n",
       "2     3   1.5  9113.69      298.554 -3301.230  823.711   -2628.33 -1804.62   \n",
       "3     4   2.0  9198.38      302.528 -4657.720  834.677   -2629.24 -1794.57   \n",
       "4     5   2.5  9130.54      290.567  -710.977  801.676   -2591.64 -1789.97   \n",
       "\n",
       "    Density  \n",
       "0  1.005360  \n",
       "1  0.993652  \n",
       "2  1.014290  \n",
       "3  1.004950  \n",
       "4  1.012420  "
      ]
     },
     "execution_count": 106,
     "metadata": {},
     "output_type": "execute_result"
    }
   ],
   "source": [
    "data.head()"
   ]
  },
  {
   "cell_type": "code",
   "execution_count": 108,
   "id": "5a0ad279-cee8-44c1-9b2b-74e973638c4f",
   "metadata": {},
   "outputs": [
    {
     "data": {
      "text/html": [
       "<div>\n",
       "<style scoped>\n",
       "    .dataframe tbody tr th:only-of-type {\n",
       "        vertical-align: middle;\n",
       "    }\n",
       "\n",
       "    .dataframe tbody tr th {\n",
       "        vertical-align: top;\n",
       "    }\n",
       "\n",
       "    .dataframe thead th {\n",
       "        text-align: right;\n",
       "    }\n",
       "</style>\n",
       "<table border=\"1\" class=\"dataframe\">\n",
       "  <thead>\n",
       "    <tr style=\"text-align: right;\">\n",
       "      <th></th>\n",
       "      <th>Step</th>\n",
       "      <th>Time</th>\n",
       "      <th>Volume</th>\n",
       "      <th>Temperature</th>\n",
       "      <th>Pressure</th>\n",
       "      <th>Kinetic</th>\n",
       "      <th>Potential</th>\n",
       "      <th>Energy</th>\n",
       "      <th>Density</th>\n",
       "    </tr>\n",
       "  </thead>\n",
       "  <tbody>\n",
       "    <tr>\n",
       "      <th>194</th>\n",
       "      <td>195</td>\n",
       "      <td>97.5</td>\n",
       "      <td>9192.93</td>\n",
       "      <td>297.812</td>\n",
       "      <td>1134.07</td>\n",
       "      <td>821.665</td>\n",
       "      <td>-2642.75</td>\n",
       "      <td>-1821.08</td>\n",
       "      <td>1.00555</td>\n",
       "    </tr>\n",
       "    <tr>\n",
       "      <th>195</th>\n",
       "      <td>196</td>\n",
       "      <td>98.0</td>\n",
       "      <td>9337.59</td>\n",
       "      <td>296.965</td>\n",
       "      <td>-1927.79</td>\n",
       "      <td>819.329</td>\n",
       "      <td>-2596.11</td>\n",
       "      <td>-1776.78</td>\n",
       "      <td>0.98997</td>\n",
       "    </tr>\n",
       "    <tr>\n",
       "      <th>196</th>\n",
       "      <td>197</td>\n",
       "      <td>98.5</td>\n",
       "      <td>9119.26</td>\n",
       "      <td>309.630</td>\n",
       "      <td>-1103.29</td>\n",
       "      <td>854.271</td>\n",
       "      <td>-2628.38</td>\n",
       "      <td>-1774.11</td>\n",
       "      <td>1.01367</td>\n",
       "    </tr>\n",
       "    <tr>\n",
       "      <th>197</th>\n",
       "      <td>198</td>\n",
       "      <td>99.0</td>\n",
       "      <td>9022.08</td>\n",
       "      <td>295.689</td>\n",
       "      <td>1359.53</td>\n",
       "      <td>815.807</td>\n",
       "      <td>-2629.19</td>\n",
       "      <td>-1813.38</td>\n",
       "      <td>1.02459</td>\n",
       "    </tr>\n",
       "    <tr>\n",
       "      <th>198</th>\n",
       "      <td>199</td>\n",
       "      <td>99.5</td>\n",
       "      <td>8865.98</td>\n",
       "      <td>300.846</td>\n",
       "      <td>2497.79</td>\n",
       "      <td>830.037</td>\n",
       "      <td>-2690.37</td>\n",
       "      <td>-1860.33</td>\n",
       "      <td>1.04263</td>\n",
       "    </tr>\n",
       "  </tbody>\n",
       "</table>\n",
       "</div>"
      ],
      "text/plain": [
       "     Step  Time   Volume  Temperature  Pressure  Kinetic  Potential   Energy  \\\n",
       "194   195  97.5  9192.93      297.812   1134.07  821.665   -2642.75 -1821.08   \n",
       "195   196  98.0  9337.59      296.965  -1927.79  819.329   -2596.11 -1776.78   \n",
       "196   197  98.5  9119.26      309.630  -1103.29  854.271   -2628.38 -1774.11   \n",
       "197   198  99.0  9022.08      295.689   1359.53  815.807   -2629.19 -1813.38   \n",
       "198   199  99.5  8865.98      300.846   2497.79  830.037   -2690.37 -1860.33   \n",
       "\n",
       "     Density  \n",
       "194  1.00555  \n",
       "195  0.98997  \n",
       "196  1.01367  \n",
       "197  1.02459  \n",
       "198  1.04263  "
      ]
     },
     "execution_count": 108,
     "metadata": {},
     "output_type": "execute_result"
    }
   ],
   "source": [
    "data.tail()"
   ]
  },
  {
   "cell_type": "code",
   "execution_count": 110,
   "id": "5ceb00f7-44bf-4c57-9413-834d9bb13280",
   "metadata": {},
   "outputs": [
    {
     "name": "stdout",
     "output_type": "stream",
     "text": [
      "<class 'pandas.core.frame.DataFrame'>\n",
      "RangeIndex: 199 entries, 0 to 198\n",
      "Data columns (total 9 columns):\n",
      " #   Column       Non-Null Count  Dtype  \n",
      "---  ------       --------------  -----  \n",
      " 0   Step         199 non-null    int64  \n",
      " 1   Time         199 non-null    float64\n",
      " 2   Volume       199 non-null    float64\n",
      " 3   Temperature  199 non-null    float64\n",
      " 4   Pressure     199 non-null    float64\n",
      " 5   Kinetic      199 non-null    float64\n",
      " 6   Potential    199 non-null    float64\n",
      " 7   Energy       199 non-null    float64\n",
      " 8   Density      199 non-null    float64\n",
      "dtypes: float64(8), int64(1)\n",
      "memory usage: 14.1 KB\n"
     ]
    }
   ],
   "source": [
    "data.info()"
   ]
  },
  {
   "cell_type": "code",
   "execution_count": 112,
   "id": "8145b8c7-2996-4d50-9092-4e2f1a9ef157",
   "metadata": {},
   "outputs": [
    {
     "data": {
      "text/html": [
       "<div>\n",
       "<style scoped>\n",
       "    .dataframe tbody tr th:only-of-type {\n",
       "        vertical-align: middle;\n",
       "    }\n",
       "\n",
       "    .dataframe tbody tr th {\n",
       "        vertical-align: top;\n",
       "    }\n",
       "\n",
       "    .dataframe thead th {\n",
       "        text-align: right;\n",
       "    }\n",
       "</style>\n",
       "<table border=\"1\" class=\"dataframe\">\n",
       "  <thead>\n",
       "    <tr style=\"text-align: right;\">\n",
       "      <th></th>\n",
       "      <th>Step</th>\n",
       "      <th>Time</th>\n",
       "      <th>Volume</th>\n",
       "      <th>Temperature</th>\n",
       "      <th>Pressure</th>\n",
       "      <th>Kinetic</th>\n",
       "      <th>Potential</th>\n",
       "      <th>Energy</th>\n",
       "      <th>Density</th>\n",
       "    </tr>\n",
       "  </thead>\n",
       "  <tbody>\n",
       "    <tr>\n",
       "      <th>count</th>\n",
       "      <td>199.000000</td>\n",
       "      <td>199.000000</td>\n",
       "      <td>199.000000</td>\n",
       "      <td>199.000000</td>\n",
       "      <td>199.000000</td>\n",
       "      <td>199.000000</td>\n",
       "      <td>199.000000</td>\n",
       "      <td>199.000000</td>\n",
       "      <td>199.000000</td>\n",
       "    </tr>\n",
       "    <tr>\n",
       "      <th>mean</th>\n",
       "      <td>100.000000</td>\n",
       "      <td>50.000000</td>\n",
       "      <td>9007.441307</td>\n",
       "      <td>298.888402</td>\n",
       "      <td>102.621241</td>\n",
       "      <td>824.634824</td>\n",
       "      <td>-2648.653166</td>\n",
       "      <td>-1824.018593</td>\n",
       "      <td>1.026478</td>\n",
       "    </tr>\n",
       "    <tr>\n",
       "      <th>std</th>\n",
       "      <td>57.590508</td>\n",
       "      <td>28.795254</td>\n",
       "      <td>133.275619</td>\n",
       "      <td>7.676824</td>\n",
       "      <td>1825.960539</td>\n",
       "      <td>21.180391</td>\n",
       "      <td>27.242203</td>\n",
       "      <td>32.394689</td>\n",
       "      <td>0.015152</td>\n",
       "    </tr>\n",
       "    <tr>\n",
       "      <th>min</th>\n",
       "      <td>1.000000</td>\n",
       "      <td>0.500000</td>\n",
       "      <td>8702.080000</td>\n",
       "      <td>275.620000</td>\n",
       "      <td>-4657.720000</td>\n",
       "      <td>760.436000</td>\n",
       "      <td>-2720.630000</td>\n",
       "      <td>-1912.660000</td>\n",
       "      <td>0.978717</td>\n",
       "    </tr>\n",
       "    <tr>\n",
       "      <th>25%</th>\n",
       "      <td>50.500000</td>\n",
       "      <td>25.250000</td>\n",
       "      <td>8920.410000</td>\n",
       "      <td>293.669500</td>\n",
       "      <td>-1146.185000</td>\n",
       "      <td>810.237000</td>\n",
       "      <td>-2670.345000</td>\n",
       "      <td>-1846.340000</td>\n",
       "      <td>1.014575</td>\n",
       "    </tr>\n",
       "    <tr>\n",
       "      <th>50%</th>\n",
       "      <td>100.000000</td>\n",
       "      <td>50.000000</td>\n",
       "      <td>9000.960000</td>\n",
       "      <td>299.139000</td>\n",
       "      <td>170.431000</td>\n",
       "      <td>825.327000</td>\n",
       "      <td>-2648.770000</td>\n",
       "      <td>-1824.730000</td>\n",
       "      <td>1.026990</td>\n",
       "    </tr>\n",
       "    <tr>\n",
       "      <th>75%</th>\n",
       "      <td>149.500000</td>\n",
       "      <td>74.750000</td>\n",
       "      <td>9111.105000</td>\n",
       "      <td>304.264000</td>\n",
       "      <td>1650.755000</td>\n",
       "      <td>839.465500</td>\n",
       "      <td>-2629.215000</td>\n",
       "      <td>-1800.455000</td>\n",
       "      <td>1.036270</td>\n",
       "    </tr>\n",
       "    <tr>\n",
       "      <th>max</th>\n",
       "      <td>199.000000</td>\n",
       "      <td>99.500000</td>\n",
       "      <td>9444.950000</td>\n",
       "      <td>322.245000</td>\n",
       "      <td>4959.470000</td>\n",
       "      <td>889.075000</td>\n",
       "      <td>-2589.970000</td>\n",
       "      <td>-1753.220000</td>\n",
       "      <td>1.062270</td>\n",
       "    </tr>\n",
       "  </tbody>\n",
       "</table>\n",
       "</div>"
      ],
      "text/plain": [
       "             Step        Time       Volume  Temperature     Pressure  \\\n",
       "count  199.000000  199.000000   199.000000   199.000000   199.000000   \n",
       "mean   100.000000   50.000000  9007.441307   298.888402   102.621241   \n",
       "std     57.590508   28.795254   133.275619     7.676824  1825.960539   \n",
       "min      1.000000    0.500000  8702.080000   275.620000 -4657.720000   \n",
       "25%     50.500000   25.250000  8920.410000   293.669500 -1146.185000   \n",
       "50%    100.000000   50.000000  9000.960000   299.139000   170.431000   \n",
       "75%    149.500000   74.750000  9111.105000   304.264000  1650.755000   \n",
       "max    199.000000   99.500000  9444.950000   322.245000  4959.470000   \n",
       "\n",
       "          Kinetic    Potential       Energy     Density  \n",
       "count  199.000000   199.000000   199.000000  199.000000  \n",
       "mean   824.634824 -2648.653166 -1824.018593    1.026478  \n",
       "std     21.180391    27.242203    32.394689    0.015152  \n",
       "min    760.436000 -2720.630000 -1912.660000    0.978717  \n",
       "25%    810.237000 -2670.345000 -1846.340000    1.014575  \n",
       "50%    825.327000 -2648.770000 -1824.730000    1.026990  \n",
       "75%    839.465500 -2629.215000 -1800.455000    1.036270  \n",
       "max    889.075000 -2589.970000 -1753.220000    1.062270  "
      ]
     },
     "execution_count": 112,
     "metadata": {},
     "output_type": "execute_result"
    }
   ],
   "source": [
    "data.describe()"
   ]
  },
  {
   "cell_type": "code",
   "execution_count": 114,
   "id": "a81feda7-09fc-441d-a18c-491813492d17",
   "metadata": {},
   "outputs": [
    {
     "data": {
      "text/plain": [
       "<Axes: >"
      ]
     },
     "execution_count": 114,
     "metadata": {},
     "output_type": "execute_result"
    },
    {
     "data": {
      "image/png": "[encoded data removed]",
      "text/plain": [
       "<Figure size 640x480 with 2 Axes>"
      ]
     },
     "metadata": {},
     "output_type": "display_data"
    }
   ],
   "source": [
    "sns.heatmap(data.corr(), annot=True)"
   ]
  },
  {
   "cell_type": "code",
   "execution_count": 115,
   "id": "ded758da-fdd2-4909-a141-de41ded4d16c",
   "metadata": {},
   "outputs": [],
   "source": [
    "scaler=StandardScaler()"
   ]
  },
  {
   "cell_type": "code",
   "execution_count": 116,
   "id": "091b9899-70af-426c-a85b-9ca37e7d7d14",
   "metadata": {},
   "outputs": [
    {
     "data": {
      "text/html": [
       "<style>#sk-container-id-2 {\n",
       "  /* Definition of color scheme common for light and dark mode */\n",
       "  --sklearn-color-text: black;\n",
       "  --sklearn-color-line: gray;\n",
       "  /* Definition of color scheme for unfitted estimators */\n",
       "  --sklearn-color-unfitted-level-0: #fff5e6;\n",
       "  --sklearn-color-unfitted-level-1: #f6e4d2;\n",
       "  --sklearn-color-unfitted-level-2: #ffe0b3;\n",
       "  --sklearn-color-unfitted-level-3: chocolate;\n",
       "  /* Definition of color scheme for fitted estimators */\n",
       "  --sklearn-color-fitted-level-0: #f0f8ff;\n",
       "  --sklearn-color-fitted-level-1: #d4ebff;\n",
       "  --sklearn-color-fitted-level-2: #b3dbfd;\n",
       "  --sklearn-color-fitted-level-3: cornflowerblue;\n",
       "\n",
       "  /* Specific color for light theme */\n",
       "  --sklearn-color-text-on-default-background: var(--sg-text-color, var(--theme-code-foreground, var(--jp-content-font-color1, black)));\n",
       "  --sklearn-color-background: var(--sg-background-color, var(--theme-background, var(--jp-layout-color0, white)));\n",
       "  --sklearn-color-border-box: var(--sg-text-color, var(--theme-code-foreground, var(--jp-content-font-color1, black)));\n",
       "  --sklearn-color-icon: #696969;\n",
       "\n",
       "  @media (prefers-color-scheme: dark) {\n",
       "    /* Redefinition of color scheme for dark theme */\n",
       "    --sklearn-color-text-on-default-background: var(--sg-text-color, var(--theme-code-foreground, var(--jp-content-font-color1, white)));\n",
       "    --sklearn-color-background: var(--sg-background-color, var(--theme-background, var(--jp-layout-color0, #111)));\n",
       "    --sklearn-color-border-box: var(--sg-text-color, var(--theme-code-foreground, var(--jp-content-font-color1, white)));\n",
       "    --sklearn-color-icon: #878787;\n",
       "  }\n",
       "}\n",
       "\n",
       "#sk-container-id-2 {\n",
       "  color: var(--sklearn-color-text);\n",
       "}\n",
       "\n",
       "#sk-container-id-2 pre {\n",
       "  padding: 0;\n",
       "}\n",
       "\n",
       "#sk-container-id-2 input.sk-hidden--visually {\n",
       "  border: 0;\n",
       "  clip: rect(1px 1px 1px 1px);\n",
       "  clip: rect(1px, 1px, 1px, 1px);\n",
       "  height: 1px;\n",
       "  margin: -1px;\n",
       "  overflow: hidden;\n",
       "  padding: 0;\n",
       "  position: absolute;\n",
       "  width: 1px;\n",
       "}\n",
       "\n",
       "#sk-container-id-2 div.sk-dashed-wrapped {\n",
       "  border: 1px dashed var(--sklearn-color-line);\n",
       "  margin: 0 0.4em 0.5em 0.4em;\n",
       "  box-sizing: border-box;\n",
       "  padding-bottom: 0.4em;\n",
       "  background-color: var(--sklearn-color-background);\n",
       "}\n",
       "\n",
       "#sk-container-id-2 div.sk-container {\n",
       "  /* jupyter's `normalize.less` sets `[hidden] { display: none; }`\n",
       "     but bootstrap.min.css set `[hidden] { display: none !important; }`\n",
       "     so we also need the `!important` here to be able to override the\n",
       "     default hidden behavior on the sphinx rendered scikit-learn.org.\n",
       "     See: https://github.com/scikit-learn/scikit-learn/issues/21755 */\n",
       "  display: inline-block !important;\n",
       "  position: relative;\n",
       "}\n",
       "\n",
       "#sk-container-id-2 div.sk-text-repr-fallback {\n",
       "  display: none;\n",
       "}\n",
       "\n",
       "div.sk-parallel-item,\n",
       "div.sk-serial,\n",
       "div.sk-item {\n",
       "  /* draw centered vertical line to link estimators */\n",
       "  background-image: linear-gradient(var(--sklearn-color-text-on-default-background), var(--sklearn-color-text-on-default-background));\n",
       "  background-size: 2px 100%;\n",
       "  background-repeat: no-repeat;\n",
       "  background-position: center center;\n",
       "}\n",
       "\n",
       "/* Parallel-specific style estimator block */\n",
       "\n",
       "#sk-container-id-2 div.sk-parallel-item::after {\n",
       "  content: \"\";\n",
       "  width: 100%;\n",
       "  border-bottom: 2px solid var(--sklearn-color-text-on-default-background);\n",
       "  flex-grow: 1;\n",
       "}\n",
       "\n",
       "#sk-container-id-2 div.sk-parallel {\n",
       "  display: flex;\n",
       "  align-items: stretch;\n",
       "  justify-content: center;\n",
       "  background-color: var(--sklearn-color-background);\n",
       "  position: relative;\n",
       "}\n",
       "\n",
       "#sk-container-id-2 div.sk-parallel-item {\n",
       "  display: flex;\n",
       "  flex-direction: column;\n",
       "}\n",
       "\n",
       "#sk-container-id-2 div.sk-parallel-item:first-child::after {\n",
       "  align-self: flex-end;\n",
       "  width: 50%;\n",
       "}\n",
       "\n",
       "#sk-container-id-2 div.sk-parallel-item:last-child::after {\n",
       "  align-self: flex-start;\n",
       "  width: 50%;\n",
       "}\n",
       "\n",
       "#sk-container-id-2 div.sk-parallel-item:only-child::after {\n",
       "  width: 0;\n",
       "}\n",
       "\n",
       "/* Serial-specific style estimator block */\n",
       "\n",
       "#sk-container-id-2 div.sk-serial {\n",
       "  display: flex;\n",
       "  flex-direction: column;\n",
       "  align-items: center;\n",
       "  background-color: var(--sklearn-color-background);\n",
       "  padding-right: 1em;\n",
       "  padding-left: 1em;\n",
       "}\n",
       "\n",
       "\n",
       "/* Toggleable style: style used for estimator/Pipeline/ColumnTransformer box that is\n",
       "clickable and can be expanded/collapsed.\n",
       "- Pipeline and ColumnTransformer use this feature and define the default style\n",
       "- Estimators will overwrite some part of the style using the `sk-estimator` class\n",
       "*/\n",
       "\n",
       "/* Pipeline and ColumnTransformer style (default) */\n",
       "\n",
       "#sk-container-id-2 div.sk-toggleable {\n",
       "  /* Default theme specific background. It is overwritten whether we have a\n",
       "  specific estimator or a Pipeline/ColumnTransformer */\n",
       "  background-color: var(--sklearn-color-background);\n",
       "}\n",
       "\n",
       "/* Toggleable label */\n",
       "#sk-container-id-2 label.sk-toggleable__label {\n",
       "  cursor: pointer;\n",
       "  display: block;\n",
       "  width: 100%;\n",
       "  margin-bottom: 0;\n",
       "  padding: 0.5em;\n",
       "  box-sizing: border-box;\n",
       "  text-align: center;\n",
       "}\n",
       "\n",
       "#sk-container-id-2 label.sk-toggleable__label-arrow:before {\n",
       "  /* Arrow on the left of the label */\n",
       "  content: \"▸\";\n",
       "  float: left;\n",
       "  margin-right: 0.25em;\n",
       "  color: var(--sklearn-color-icon);\n",
       "}\n",
       "\n",
       "#sk-container-id-2 label.sk-toggleable__label-arrow:hover:before {\n",
       "  color: var(--sklearn-color-text);\n",
       "}\n",
       "\n",
       "/* Toggleable content - dropdown */\n",
       "\n",
       "#sk-container-id-2 div.sk-toggleable__content {\n",
       "  max-height: 0;\n",
       "  max-width: 0;\n",
       "  overflow: hidden;\n",
       "  text-align: left;\n",
       "  /* unfitted */\n",
       "  background-color: var(--sklearn-color-unfitted-level-0);\n",
       "}\n",
       "\n",
       "#sk-container-id-2 div.sk-toggleable__content.fitted {\n",
       "  /* fitted */\n",
       "  background-color: var(--sklearn-color-fitted-level-0);\n",
       "}\n",
       "\n",
       "#sk-container-id-2 div.sk-toggleable__content pre {\n",
       "  margin: 0.2em;\n",
       "  border-radius: 0.25em;\n",
       "  color: var(--sklearn-color-text);\n",
       "  /* unfitted */\n",
       "  background-color: var(--sklearn-color-unfitted-level-0);\n",
       "}\n",
       "\n",
       "#sk-container-id-2 div.sk-toggleable__content.fitted pre {\n",
       "  /* unfitted */\n",
       "  background-color: var(--sklearn-color-fitted-level-0);\n",
       "}\n",
       "\n",
       "#sk-container-id-2 input.sk-toggleable__control:checked~div.sk-toggleable__content {\n",
       "  /* Expand drop-down */\n",
       "  max-height: 200px;\n",
       "  max-width: 100%;\n",
       "  overflow: auto;\n",
       "}\n",
       "\n",
       "#sk-container-id-2 input.sk-toggleable__control:checked~label.sk-toggleable__label-arrow:before {\n",
       "  content: \"▾\";\n",
       "}\n",
       "\n",
       "/* Pipeline/ColumnTransformer-specific style */\n",
       "\n",
       "#sk-container-id-2 div.sk-label input.sk-toggleable__control:checked~label.sk-toggleable__label {\n",
       "  color: var(--sklearn-color-text);\n",
       "  background-color: var(--sklearn-color-unfitted-level-2);\n",
       "}\n",
       "\n",
       "#sk-container-id-2 div.sk-label.fitted input.sk-toggleable__control:checked~label.sk-toggleable__label {\n",
       "  background-color: var(--sklearn-color-fitted-level-2);\n",
       "}\n",
       "\n",
       "/* Estimator-specific style */\n",
       "\n",
       "/* Colorize estimator box */\n",
       "#sk-container-id-2 div.sk-estimator input.sk-toggleable__control:checked~label.sk-toggleable__label {\n",
       "  /* unfitted */\n",
       "  background-color: var(--sklearn-color-unfitted-level-2);\n",
       "}\n",
       "\n",
       "#sk-container-id-2 div.sk-estimator.fitted input.sk-toggleable__control:checked~label.sk-toggleable__label {\n",
       "  /* fitted */\n",
       "  background-color: var(--sklearn-color-fitted-level-2);\n",
       "}\n",
       "\n",
       "#sk-container-id-2 div.sk-label label.sk-toggleable__label,\n",
       "#sk-container-id-2 div.sk-label label {\n",
       "  /* The background is the default theme color */\n",
       "  color: var(--sklearn-color-text-on-default-background);\n",
       "}\n",
       "\n",
       "/* On hover, darken the color of the background */\n",
       "#sk-container-id-2 div.sk-label:hover label.sk-toggleable__label {\n",
       "  color: var(--sklearn-color-text);\n",
       "  background-color: var(--sklearn-color-unfitted-level-2);\n",
       "}\n",
       "\n",
       "/* Label box, darken color on hover, fitted */\n",
       "#sk-container-id-2 div.sk-label.fitted:hover label.sk-toggleable__label.fitted {\n",
       "  color: var(--sklearn-color-text);\n",
       "  background-color: var(--sklearn-color-fitted-level-2);\n",
       "}\n",
       "\n",
       "/* Estimator label */\n",
       "\n",
       "#sk-container-id-2 div.sk-label label {\n",
       "  font-family: monospace;\n",
       "  font-weight: bold;\n",
       "  display: inline-block;\n",
       "  line-height: 1.2em;\n",
       "}\n",
       "\n",
       "#sk-container-id-2 div.sk-label-container {\n",
       "  text-align: center;\n",
       "}\n",
       "\n",
       "/* Estimator-specific */\n",
       "#sk-container-id-2 div.sk-estimator {\n",
       "  font-family: monospace;\n",
       "  border: 1px dotted var(--sklearn-color-border-box);\n",
       "  border-radius: 0.25em;\n",
       "  box-sizing: border-box;\n",
       "  margin-bottom: 0.5em;\n",
       "  /* unfitted */\n",
       "  background-color: var(--sklearn-color-unfitted-level-0);\n",
       "}\n",
       "\n",
       "#sk-container-id-2 div.sk-estimator.fitted {\n",
       "  /* fitted */\n",
       "  background-color: var(--sklearn-color-fitted-level-0);\n",
       "}\n",
       "\n",
       "/* on hover */\n",
       "#sk-container-id-2 div.sk-estimator:hover {\n",
       "  /* unfitted */\n",
       "  background-color: var(--sklearn-color-unfitted-level-2);\n",
       "}\n",
       "\n",
       "#sk-container-id-2 div.sk-estimator.fitted:hover {\n",
       "  /* fitted */\n",
       "  background-color: var(--sklearn-color-fitted-level-2);\n",
       "}\n",
       "\n",
       "/* Specification for estimator info (e.g. \"i\" and \"?\") */\n",
       "\n",
       "/* Common style for \"i\" and \"?\" */\n",
       "\n",
       ".sk-estimator-doc-link,\n",
       "a:link.sk-estimator-doc-link,\n",
       "a:visited.sk-estimator-doc-link {\n",
       "  float: right;\n",
       "  font-size: smaller;\n",
       "  line-height: 1em;\n",
       "  font-family: monospace;\n",
       "  background-color: var(--sklearn-color-background);\n",
       "  border-radius: 1em;\n",
       "  height: 1em;\n",
       "  width: 1em;\n",
       "  text-decoration: none !important;\n",
       "  margin-left: 1ex;\n",
       "  /* unfitted */\n",
       "  border: var(--sklearn-color-unfitted-level-1) 1pt solid;\n",
       "  color: var(--sklearn-color-unfitted-level-1);\n",
       "}\n",
       "\n",
       ".sk-estimator-doc-link.fitted,\n",
       "a:link.sk-estimator-doc-link.fitted,\n",
       "a:visited.sk-estimator-doc-link.fitted {\n",
       "  /* fitted */\n",
       "  border: var(--sklearn-color-fitted-level-1) 1pt solid;\n",
       "  color: var(--sklearn-color-fitted-level-1);\n",
       "}\n",
       "\n",
       "/* On hover */\n",
       "div.sk-estimator:hover .sk-estimator-doc-link:hover,\n",
       ".sk-estimator-doc-link:hover,\n",
       "div.sk-label-container:hover .sk-estimator-doc-link:hover,\n",
       ".sk-estimator-doc-link:hover {\n",
       "  /* unfitted */\n",
       "  background-color: var(--sklearn-color-unfitted-level-3);\n",
       "  color: var(--sklearn-color-background);\n",
       "  text-decoration: none;\n",
       "}\n",
       "\n",
       "div.sk-estimator.fitted:hover .sk-estimator-doc-link.fitted:hover,\n",
       ".sk-estimator-doc-link.fitted:hover,\n",
       "div.sk-label-container:hover .sk-estimator-doc-link.fitted:hover,\n",
       ".sk-estimator-doc-link.fitted:hover {\n",
       "  /* fitted */\n",
       "  background-color: var(--sklearn-color-fitted-level-3);\n",
       "  color: var(--sklearn-color-background);\n",
       "  text-decoration: none;\n",
       "}\n",
       "\n",
       "/* Span, style for the box shown on hovering the info icon */\n",
       ".sk-estimator-doc-link span {\n",
       "  display: none;\n",
       "  z-index: 9999;\n",
       "  position: relative;\n",
       "  font-weight: normal;\n",
       "  right: .2ex;\n",
       "  padding: .5ex;\n",
       "  margin: .5ex;\n",
       "  width: min-content;\n",
       "  min-width: 20ex;\n",
       "  max-width: 50ex;\n",
       "  color: var(--sklearn-color-text);\n",
       "  box-shadow: 2pt 2pt 4pt #999;\n",
       "  /* unfitted */\n",
       "  background: var(--sklearn-color-unfitted-level-0);\n",
       "  border: .5pt solid var(--sklearn-color-unfitted-level-3);\n",
       "}\n",
       "\n",
       ".sk-estimator-doc-link.fitted span {\n",
       "  /* fitted */\n",
       "  background: var(--sklearn-color-fitted-level-0);\n",
       "  border: var(--sklearn-color-fitted-level-3);\n",
       "}\n",
       "\n",
       ".sk-estimator-doc-link:hover span {\n",
       "  display: block;\n",
       "}\n",
       "\n",
       "/* \"?\"-specific style due to the `<a>` HTML tag */\n",
       "\n",
       "#sk-container-id-2 a.estimator_doc_link {\n",
       "  float: right;\n",
       "  font-size: 1rem;\n",
       "  line-height: 1em;\n",
       "  font-family: monospace;\n",
       "  background-color: var(--sklearn-color-background);\n",
       "  border-radius: 1rem;\n",
       "  height: 1rem;\n",
       "  width: 1rem;\n",
       "  text-decoration: none;\n",
       "  /* unfitted */\n",
       "  color: var(--sklearn-color-unfitted-level-1);\n",
       "  border: var(--sklearn-color-unfitted-level-1) 1pt solid;\n",
       "}\n",
       "\n",
       "#sk-container-id-2 a.estimator_doc_link.fitted {\n",
       "  /* fitted */\n",
       "  border: var(--sklearn-color-fitted-level-1) 1pt solid;\n",
       "  color: var(--sklearn-color-fitted-level-1);\n",
       "}\n",
       "\n",
       "/* On hover */\n",
       "#sk-container-id-2 a.estimator_doc_link:hover {\n",
       "  /* unfitted */\n",
       "  background-color: var(--sklearn-color-unfitted-level-3);\n",
       "  color: var(--sklearn-color-background);\n",
       "  text-decoration: none;\n",
       "}\n",
       "\n",
       "#sk-container-id-2 a.estimator_doc_link.fitted:hover {\n",
       "  /* fitted */\n",
       "  background-color: var(--sklearn-color-fitted-level-3);\n",
       "}\n",
       "</style><div id=\"sk-container-id-2\" class=\"sk-top-container\"><div class=\"sk-text-repr-fallback\"><pre>StandardScaler()</pre><b>In a Jupyter environment, please rerun this cell to show the HTML representation or trust the notebook. <br />On GitHub, the HTML representation is unable to render, please try loading this page with nbviewer.org.</b></div><div class=\"sk-container\" hidden><div class=\"sk-item\"><div class=\"sk-estimator  sk-toggleable\"><input class=\"sk-toggleable__control sk-hidden--visually\" id=\"sk-estimator-id-2\" type=\"checkbox\" checked><label for=\"sk-estimator-id-2\" class=\"sk-toggleable__label  sk-toggleable__label-arrow \">&nbsp;&nbsp;StandardScaler<a class=\"sk-estimator-doc-link \" rel=\"noreferrer\" target=\"_blank\" href=\"https://scikit-learn.org/1.5/modules/generated/sklearn.preprocessing.StandardScaler.html\">?<span>Documentation for StandardScaler</span></a><span class=\"sk-estimator-doc-link \">i<span>Not fitted</span></span></label><div class=\"sk-toggleable__content \"><pre>StandardScaler()</pre></div> </div></div></div></div>"
      ],
      "text/plain": [
       "StandardScaler()"
      ]
     },
     "execution_count": 116,
     "metadata": {},
     "output_type": "execute_result"
    }
   ],
   "source": [
    "scaler"
   ]
  },
  {
   "cell_type": "code",
   "execution_count": 117,
   "id": "33ecedef-c3d3-4b75-935c-c925048569ae",
   "metadata": {},
   "outputs": [],
   "source": [
    "scaled_data=scaler.fit_transform(data)"
   ]
  },
  {
   "cell_type": "code",
   "execution_count": 118,
   "id": "32d9a8f9-babe-43d7-a805-8e1f4d4f6880",
   "metadata": {},
   "outputs": [
    {
     "data": {
      "text/plain": [
       "array([[-1.72336879, -1.72336879,  1.40836636, ...,  0.03986086,\n",
       "        -0.51190878, -1.39729555],\n",
       "       [-1.70596103, -1.70596103,  2.22316798, ...,  0.70852286,\n",
       "         0.1324101 , -2.1719619 ],\n",
       "       [-1.68855326, -1.68855326,  0.7992209 , ...,  0.74789921,\n",
       "         0.60033044, -0.80643712],\n",
       "       ...,\n",
       "       [ 1.68855326,  1.68855326,  0.8411194 , ...,  0.7460592 ,\n",
       "         1.54452683, -0.84745977],\n",
       "       [ 1.70596103,  1.70596103,  0.11011476, ...,  0.71625093,\n",
       "         0.32923373, -0.12493188],\n",
       "       [ 1.72336879,  1.72336879, -1.06409622, ..., -1.53519327,\n",
       "        -1.12373319,  1.06869478]])"
      ]
     },
     "execution_count": 118,
     "metadata": {},
     "output_type": "execute_result"
    }
   ],
   "source": [
    "scaled_data"
   ]
  },
  {
   "cell_type": "code",
   "execution_count": 124,
   "id": "008e28cf-cfc7-4c0a-b10b-9932445eaf26",
   "metadata": {},
   "outputs": [],
   "source": [
    "features=scaled_data.T"
   ]
  },
  {
   "cell_type": "code",
   "execution_count": 126,
   "id": "cc97b321-3699-4241-a852-d90067daa996",
   "metadata": {},
   "outputs": [
    {
     "data": {
      "text/plain": [
       "array([[-1.72336879, -1.70596103, -1.68855326, ...,  1.68855326,\n",
       "         1.70596103,  1.72336879],\n",
       "       [-1.72336879, -1.70596103, -1.68855326, ...,  1.68855326,\n",
       "         1.70596103,  1.72336879],\n",
       "       [ 1.40836636,  2.22316798,  0.7992209 , ...,  0.8411194 ,\n",
       "         0.11011476, -1.06409622],\n",
       "       ...,\n",
       "       [ 0.03986086,  0.70852286,  0.74789921, ...,  0.7460592 ,\n",
       "         0.71625093, -1.53519327],\n",
       "       [-0.51190878,  0.1324101 ,  0.60033044, ...,  1.54452683,\n",
       "         0.32923373, -1.12373319],\n",
       "       [-1.39729555, -2.1719619 , -0.80643712, ..., -0.84745977,\n",
       "        -0.12493188,  1.06869478]])"
      ]
     },
     "execution_count": 126,
     "metadata": {},
     "output_type": "execute_result"
    }
   ],
   "source": [
    "features"
   ]
  },
  {
   "cell_type": "code",
   "execution_count": 128,
   "id": "3313e48a-4f62-406e-a89c-55fccb4c4bfe",
   "metadata": {},
   "outputs": [],
   "source": [
    "covariance_matrix=np.cov(features)"
   ]
  },
  {
   "cell_type": "code",
   "execution_count": 130,
   "id": "abf80f80-28d3-487a-a9c0-b24b037574b1",
   "metadata": {},
   "outputs": [
    {
     "data": {
      "text/plain": [
       "array([[ 1.00505051,  1.00505051, -0.03929762,  0.04605833,  0.10874596,\n",
       "         0.04606231, -0.16358591, -0.1074287 ,  0.03968996],\n",
       "       [ 1.00505051,  1.00505051, -0.03929762,  0.04605833,  0.10874596,\n",
       "         0.04606231, -0.16358591, -0.1074287 ,  0.03968996],\n",
       "       [-0.03929762, -0.03929762,  1.00505051, -0.10777081, -0.21839712,\n",
       "        -0.10776782,  0.27677323,  0.1622804 , -1.00485475],\n",
       "       [ 0.04605833,  0.04605833, -0.10777081,  1.00505051,  0.00133233,\n",
       "         1.0050505 , -0.12307682,  0.55362864,  0.10683388],\n",
       "       [ 0.10874596,  0.10874596, -0.21839712,  0.00133233,  1.00505051,\n",
       "         0.00132843,  0.07199525,  0.06141656,  0.21813727],\n",
       "       [ 0.04606231,  0.04606231, -0.10776782,  1.0050505 ,  0.00132843,\n",
       "         1.00505051, -0.12307662,  0.55362881,  0.1068309 ],\n",
       "       [-0.16358591, -0.16358591,  0.27677323, -0.12307682,  0.07199525,\n",
       "        -0.12307662,  1.00505051,  0.76471199, -0.27731327],\n",
       "       [-0.1074287 , -0.1074287 ,  0.1622804 ,  0.55362864,  0.06141656,\n",
       "         0.55362881,  0.76471199,  1.00505051, -0.16334713],\n",
       "       [ 0.03968996,  0.03968996, -1.00485475,  0.10683388,  0.21813727,\n",
       "         0.1068309 , -0.27731327, -0.16334713,  1.00505051]])"
      ]
     },
     "execution_count": 130,
     "metadata": {},
     "output_type": "execute_result"
    }
   ],
   "source": [
    "covariance_matrix"
   ]
  },
  {
   "cell_type": "code",
   "execution_count": 132,
   "id": "8d76e226-e5d7-40d2-b418-deb96b13041a",
   "metadata": {},
   "outputs": [],
   "source": [
    "values, vectors=np.linalg.eig(covariance_matrix)"
   ]
  },
  {
   "cell_type": "code",
   "execution_count": 134,
   "id": "e7337066-edae-4859-86aa-ac020f45111d",
   "metadata": {},
   "outputs": [
    {
     "data": {
      "text/plain": [
       "array([ 2.51176929e+00,  2.46121529e+00,  1.93917218e+00,  1.33937635e+00,\n",
       "        7.93726416e-01,  1.95015408e-04, -1.74229046e-16,  8.07708374e-09,\n",
       "        7.75445120e-10])"
      ]
     },
     "execution_count": 134,
     "metadata": {},
     "output_type": "execute_result"
    }
   ],
   "source": [
    "values"
   ]
  },
  {
   "cell_type": "code",
   "execution_count": 136,
   "id": "9df9dc5b-1cea-4a0e-a559-fbdad67abb4e",
   "metadata": {},
   "outputs": [
    {
     "data": {
      "text/plain": [
       "array([[-2.82743073e-01, -1.74717289e-01,  5.99946322e-01,\n",
       "        -1.18421635e-01,  1.24783548e-01, -1.30567200e-04,\n",
       "        -7.07106781e-01, -7.88276217e-06,  1.36424666e-06],\n",
       "       [-2.82743073e-01, -1.74717289e-01,  5.99946322e-01,\n",
       "        -1.18421635e-01,  1.24783548e-01, -1.30567200e-04,\n",
       "         7.07106781e-01, -7.88544199e-06,  1.36828798e-06],\n",
       "       [ 3.81691771e-01,  3.24563269e-01,  3.70273882e-01,\n",
       "         2.14416983e-01, -2.56708525e-01,  7.07102126e-01,\n",
       "         8.79513119e-14,  3.62948045e-05,  2.91729916e-05],\n",
       "       [ 2.37741020e-01, -5.58514414e-01,  2.19528443e-02,\n",
       "         2.51581138e-01, -1.10137378e-01,  2.45215279e-04,\n",
       "         2.46246888e-09, -2.57881544e-01,  6.99380208e-01],\n",
       "       [-1.10849462e-01, -1.30798195e-01, -2.66197220e-02,\n",
       "        -5.42982778e-01, -8.21623570e-01,  1.78416863e-04,\n",
       "        -8.63943883e-15,  6.79542383e-07, -2.77892371e-06],\n",
       "       [ 2.37741273e-01, -5.58513995e-01,  2.19565101e-02,\n",
       "         2.51582843e-01, -1.10133895e-01,  2.99760643e-04,\n",
       "        -6.88948918e-10, -2.13631435e-01, -7.14140902e-01],\n",
       "       [ 4.12798583e-01,  1.05368908e-01,  4.29189120e-02,\n",
       "        -5.90323450e-01,  3.16266594e-01,  1.89248204e-04,\n",
       "         2.28107813e-09, -6.06453545e-01, -1.89846492e-02],\n",
       "       [ 5.02571801e-01, -2.76567398e-01,  5.04574182e-02,\n",
       "        -3.31940026e-01,  1.93957110e-01,  2.69018906e-04,\n",
       "        -2.71252970e-09,  7.21160741e-01,  2.25760594e-02],\n",
       "       [-3.82248227e-01, -3.24083151e-01, -3.70088456e-01,\n",
       "        -2.14230577e-01,  2.56885069e-01,  7.07111207e-01,\n",
       "         1.02080040e-13,  3.16397866e-05,  2.75269500e-05]])"
      ]
     },
     "execution_count": 136,
     "metadata": {},
     "output_type": "execute_result"
    }
   ],
   "source": [
    "vectors"
   ]
  },
  {
   "cell_type": "code",
   "execution_count": 138,
   "id": "29f3b7b7-4241-49b0-8e8a-1e33589cae1a",
   "metadata": {},
   "outputs": [
    {
     "data": {
      "text/plain": [
       "(9,)"
      ]
     },
     "execution_count": 138,
     "metadata": {},
     "output_type": "execute_result"
    }
   ],
   "source": [
    "values.shape"
   ]
  },
  {
   "cell_type": "code",
   "execution_count": 140,
   "id": "2a2f72a9-c7a1-4ecb-b474-effb1c919c2a",
   "metadata": {},
   "outputs": [
    {
     "data": {
      "text/plain": [
       "(9, 9)"
      ]
     },
     "execution_count": 140,
     "metadata": {},
     "output_type": "execute_result"
    }
   ],
   "source": [
    "vectors.shape"
   ]
  },
  {
   "cell_type": "code",
   "execution_count": 142,
   "id": "6c9c7d15-201c-4bb6-8b6d-6c64eb428326",
   "metadata": {},
   "outputs": [],
   "source": [
    "#For calculating the percentage contribution of the eigen values\n",
    "percentage_variance=[]\n",
    "for i in range(len(values)):\n",
    "    percentage_variance.append(values[i]/np.sum(values))"
   ]
  },
  {
   "cell_type": "code",
   "execution_count": 144,
   "id": "f1076654-f040-4982-950a-8f479947e5c9",
   "metadata": {},
   "outputs": [
    {
     "data": {
      "text/plain": [
       "[np.float64(0.2776830370803721),\n",
       " np.float64(0.2720941526363865),\n",
       " np.float64(0.21438084362759757),\n",
       " np.float64(0.14807175715403573),\n",
       " np.float64(0.08774864903056713),\n",
       " np.float64(2.1559492369398394e-05),\n",
       " np.float64(-1.9261502551262223e-17),\n",
       " np.float64(8.929439305673902e-10),\n",
       " np.float64(8.572760122542817e-11)]"
      ]
     },
     "execution_count": 144,
     "metadata": {},
     "output_type": "execute_result"
    }
   ],
   "source": [
    "percentage_variance"
   ]
  },
  {
   "cell_type": "code",
   "execution_count": 146,
   "id": "0328b072-9445-4939-b389-ebb800ffbb82",
   "metadata": {},
   "outputs": [],
   "source": [
    "proj_1=scaled_data.dot(vectors.T[0])\n",
    "proj_2=scaled_data.dot(vectors.T[1])\n",
    "result=pd.DataFrame(proj_1, columns=['PC1'])\n",
    "result['PC2']=proj_2"
   ]
  },
  {
   "cell_type": "code",
   "execution_count": 148,
   "id": "89fa921e-7c23-4f9f-8528-a86b2dd1db42",
   "metadata": {},
   "outputs": [
    {
     "data": {
      "text/html": [
       "<div>\n",
       "<style scoped>\n",
       "    .dataframe tbody tr th:only-of-type {\n",
       "        vertical-align: middle;\n",
       "    }\n",
       "\n",
       "    .dataframe tbody tr th {\n",
       "        vertical-align: top;\n",
       "    }\n",
       "\n",
       "    .dataframe thead th {\n",
       "        text-align: right;\n",
       "    }\n",
       "</style>\n",
       "<table border=\"1\" class=\"dataframe\">\n",
       "  <thead>\n",
       "    <tr style=\"text-align: right;\">\n",
       "      <th></th>\n",
       "      <th>PC1</th>\n",
       "      <th>PC2</th>\n",
       "    </tr>\n",
       "  </thead>\n",
       "  <tbody>\n",
       "    <tr>\n",
       "      <th>0</th>\n",
       "      <td>1.282047</td>\n",
       "      <td>2.439715</td>\n",
       "    </tr>\n",
       "    <tr>\n",
       "      <th>1</th>\n",
       "      <td>2.748305</td>\n",
       "      <td>2.948970</td>\n",
       "    </tr>\n",
       "    <tr>\n",
       "      <th>2</th>\n",
       "      <td>2.364992</td>\n",
       "      <td>1.316817</td>\n",
       "    </tr>\n",
       "    <tr>\n",
       "      <th>3</th>\n",
       "      <td>3.306351</td>\n",
       "      <td>1.145897</td>\n",
       "    </tr>\n",
       "    <tr>\n",
       "      <th>4</th>\n",
       "      <td>2.572622</td>\n",
       "      <td>2.381815</td>\n",
       "    </tr>\n",
       "    <tr>\n",
       "      <th>...</th>\n",
       "      <td>...</td>\n",
       "      <td>...</td>\n",
       "    </tr>\n",
       "    <tr>\n",
       "      <th>194</th>\n",
       "      <td>0.132476</td>\n",
       "      <td>0.404435</td>\n",
       "    </tr>\n",
       "    <tr>\n",
       "      <th>195</th>\n",
       "      <td>2.463299</td>\n",
       "      <td>1.230716</td>\n",
       "    </tr>\n",
       "    <tr>\n",
       "      <th>196</th>\n",
       "      <td>1.514720</td>\n",
       "      <td>-1.871266</td>\n",
       "    </tr>\n",
       "    <tr>\n",
       "      <th>197</th>\n",
       "      <td>-0.688947</td>\n",
       "      <td>-0.159016</td>\n",
       "    </tr>\n",
       "    <tr>\n",
       "      <th>198</th>\n",
       "      <td>-3.011891</td>\n",
       "      <td>-1.602488</td>\n",
       "    </tr>\n",
       "  </tbody>\n",
       "</table>\n",
       "<p>199 rows × 2 columns</p>\n",
       "</div>"
      ],
      "text/plain": [
       "          PC1       PC2\n",
       "0    1.282047  2.439715\n",
       "1    2.748305  2.948970\n",
       "2    2.364992  1.316817\n",
       "3    3.306351  1.145897\n",
       "4    2.572622  2.381815\n",
       "..        ...       ...\n",
       "194  0.132476  0.404435\n",
       "195  2.463299  1.230716\n",
       "196  1.514720 -1.871266\n",
       "197 -0.688947 -0.159016\n",
       "198 -3.011891 -1.602488\n",
       "\n",
       "[199 rows x 2 columns]"
      ]
     },
     "execution_count": 148,
     "metadata": {},
     "output_type": "execute_result"
    }
   ],
   "source": [
    "result"
   ]
  },
  {
   "cell_type": "code",
   "execution_count": 150,
   "id": "e2256e44-ca04-4820-95ad-236429792610",
   "metadata": {},
   "outputs": [
    {
     "data": {
      "text/plain": [
       "<Axes: >"
      ]
     },
     "execution_count": 150,
     "metadata": {},
     "output_type": "execute_result"
    },
    {
     "data": {
      "image/png": "[encoded data removed]",
      "text/plain": [
       "<Figure size 640x480 with 2 Axes>"
      ]
     },
     "metadata": {},
     "output_type": "display_data"
    }
   ],
   "source": [
    "#Draw the heatmap of the resulting dataset to calculate correlation between the Principal Components\n",
    "sns.heatmap(result.corr(), annot=True)"
   ]
  },
  {
   "cell_type": "code",
   "execution_count": 152,
   "id": "dab3524c-b98c-434c-a0da-b794819ebbde",
   "metadata": {},
   "outputs": [
    {
     "name": "stderr",
     "output_type": "stream",
     "text": [
      "/tmp/ipykernel_9313/2709892902.py:2: UserWarning:\n",
      "\n",
      "Ignoring `palette` because no `hue` variable has been assigned.\n",
      "\n"
     ]
    },
    {
     "data": {
      "text/plain": [
       "Text(0, 0.5, '2nd Principal Component')"
      ]
     },
     "execution_count": 152,
     "metadata": {},
     "output_type": "execute_result"
    },
    {
     "data": {
      "image/png": "[encoded data removed]",
      "text/plain": [
       "<Figure size 1000x600 with 1 Axes>"
      ]
     },
     "metadata": {},
     "output_type": "display_data"
    }
   ],
   "source": [
    "plt.figure(figsize=(10, 6))\n",
    "sns.scatterplot(x=result['PC1'], y=result['PC2'], data=result, palette='Set1', s=100)\n",
    "plt.xlabel('1st Principal Component')\n",
    "plt.ylabel('2nd Principal Component')"
   ]
  },
  {
   "cell_type": "code",
   "execution_count": 154,
   "id": "113f0549-2e6a-4330-8abd-20116179b719",
   "metadata": {},
   "outputs": [],
   "source": [
    "slope, intercept=np.polyfit(result['PC1'], result['PC2'], 1)\n",
    "x_vals=np.linspace(min(result['PC1']), max(result['PC2']), 100)\n",
    "y_vals=slope*x_vals+intercept"
   ]
  },
  {
   "cell_type": "code",
   "execution_count": 156,
   "id": "1c5a277e-4cff-4564-9393-a266303f9a82",
   "metadata": {},
   "outputs": [
    {
     "data": {
      "text/plain": [
       "np.float64(-2.190485779141168e-16)"
      ]
     },
     "execution_count": 156,
     "metadata": {},
     "output_type": "execute_result"
    }
   ],
   "source": [
    "slope"
   ]
  },
  {
   "cell_type": "code",
   "execution_count": 158,
   "id": "0bede649-2958-4397-875f-06b6838db512",
   "metadata": {},
   "outputs": [
    {
     "data": {
      "text/plain": [
       "np.float64(-1.4481098733646762e-15)"
      ]
     },
     "execution_count": 158,
     "metadata": {},
     "output_type": "execute_result"
    }
   ],
   "source": [
    "intercept"
   ]
  },
  {
   "cell_type": "code",
   "execution_count": 160,
   "id": "a0bad102-b170-44c7-a531-030c0692bb56",
   "metadata": {},
   "outputs": [
    {
     "data": {
      "text/plain": [
       "array([-4.39784916, -4.31347326, -4.22909736, -4.14472147, -4.06034557,\n",
       "       -3.97596967, -3.89159378, -3.80721788, -3.72284198, -3.63846609,\n",
       "       -3.55409019, -3.46971429, -3.3853384 , -3.3009625 , -3.2165866 ,\n",
       "       -3.13221071, -3.04783481, -2.96345891, -2.87908302, -2.79470712,\n",
       "       -2.71033122, -2.62595533, -2.54157943, -2.45720353, -2.37282764,\n",
       "       -2.28845174, -2.20407584, -2.11969995, -2.03532405, -1.95094815,\n",
       "       -1.86657225, -1.78219636, -1.69782046, -1.61344456, -1.52906867,\n",
       "       -1.44469277, -1.36031687, -1.27594098, -1.19156508, -1.10718918,\n",
       "       -1.02281329, -0.93843739, -0.85406149, -0.7696856 , -0.6853097 ,\n",
       "       -0.6009338 , -0.51655791, -0.43218201, -0.34780611, -0.26343022,\n",
       "       -0.17905432, -0.09467842, -0.01030253,  0.07407337,  0.15844927,\n",
       "        0.24282516,  0.32720106,  0.41157696,  0.49595285,  0.58032875,\n",
       "        0.66470465,  0.74908055,  0.83345644,  0.91783234,  1.00220824,\n",
       "        1.08658413,  1.17096003,  1.25533593,  1.33971182,  1.42408772,\n",
       "        1.50846362,  1.59283951,  1.67721541,  1.76159131,  1.8459672 ,\n",
       "        1.9303431 ,  2.014719  ,  2.09909489,  2.18347079,  2.26784669,\n",
       "        2.35222258,  2.43659848,  2.52097438,  2.60535027,  2.68972617,\n",
       "        2.77410207,  2.85847796,  2.94285386,  3.02722976,  3.11160566,\n",
       "        3.19598155,  3.28035745,  3.36473335,  3.44910924,  3.53348514,\n",
       "        3.61786104,  3.70223693,  3.78661283,  3.87098873,  3.95536462])"
      ]
     },
     "execution_count": 160,
     "metadata": {},
     "output_type": "execute_result"
    }
   ],
   "source": [
    "x_vals"
   ]
  },
  {
   "cell_type": "code",
   "execution_count": 162,
   "id": "1077234e-0c17-43f9-a188-a67060fa3063",
   "metadata": {},
   "outputs": [
    {
     "data": {
      "text/plain": [
       "array([-4.84767269e-16, -5.03249690e-16, -5.21732110e-16, -5.40214530e-16,\n",
       "       -5.58696950e-16, -5.77179370e-16, -5.95661791e-16, -6.14144211e-16,\n",
       "       -6.32626631e-16, -6.51109051e-16, -6.69591471e-16, -6.88073892e-16,\n",
       "       -7.06556312e-16, -7.25038732e-16, -7.43521152e-16, -7.62003572e-16,\n",
       "       -7.80485993e-16, -7.98968413e-16, -8.17450833e-16, -8.35933253e-16,\n",
       "       -8.54415673e-16, -8.72898094e-16, -8.91380514e-16, -9.09862934e-16,\n",
       "       -9.28345354e-16, -9.46827774e-16, -9.65310195e-16, -9.83792615e-16,\n",
       "       -1.00227503e-15, -1.02075746e-15, -1.03923988e-15, -1.05772230e-15,\n",
       "       -1.07620472e-15, -1.09468714e-15, -1.11316956e-15, -1.13165198e-15,\n",
       "       -1.15013440e-15, -1.16861682e-15, -1.18709924e-15, -1.20558166e-15,\n",
       "       -1.22406408e-15, -1.24254650e-15, -1.26102892e-15, -1.27951134e-15,\n",
       "       -1.29799376e-15, -1.31647618e-15, -1.33495860e-15, -1.35344102e-15,\n",
       "       -1.37192344e-15, -1.39040586e-15, -1.40888828e-15, -1.42737070e-15,\n",
       "       -1.44585312e-15, -1.46433554e-15, -1.48281796e-15, -1.50130038e-15,\n",
       "       -1.51978280e-15, -1.53826522e-15, -1.55674764e-15, -1.57523006e-15,\n",
       "       -1.59371248e-15, -1.61219490e-15, -1.63067732e-15, -1.64915974e-15,\n",
       "       -1.66764216e-15, -1.68612458e-15, -1.70460700e-15, -1.72308942e-15,\n",
       "       -1.74157184e-15, -1.76005426e-15, -1.77853668e-15, -1.79701910e-15,\n",
       "       -1.81550152e-15, -1.83398394e-15, -1.85246636e-15, -1.87094878e-15,\n",
       "       -1.88943120e-15, -1.90791362e-15, -1.92639604e-15, -1.94487847e-15,\n",
       "       -1.96336089e-15, -1.98184331e-15, -2.00032573e-15, -2.01880815e-15,\n",
       "       -2.03729057e-15, -2.05577299e-15, -2.07425541e-15, -2.09273783e-15,\n",
       "       -2.11122025e-15, -2.12970267e-15, -2.14818509e-15, -2.16666751e-15,\n",
       "       -2.18514993e-15, -2.20363235e-15, -2.22211477e-15, -2.24059719e-15,\n",
       "       -2.25907961e-15, -2.27756203e-15, -2.29604445e-15, -2.31452687e-15])"
      ]
     },
     "execution_count": 162,
     "metadata": {},
     "output_type": "execute_result"
    }
   ],
   "source": [
    "y_vals"
   ]
  },
  {
   "cell_type": "code",
   "execution_count": 164,
   "id": "b5466e18-9968-47e7-8718-2aee1897e6be",
   "metadata": {},
   "outputs": [
    {
     "data": {
      "text/plain": [
       "Text(0, 0.5, '2nd Principal Component')"
      ]
     },
     "execution_count": 164,
     "metadata": {},
     "output_type": "execute_result"
    },
    {
     "data": {
      "image/png": "[encoded data removed]",
      "text/plain": [
       "<Figure size 1000x600 with 1 Axes>"
      ]
     },
     "metadata": {},
     "output_type": "display_data"
    }
   ],
   "source": [
    "#Generate the scatter plot for the PCA with respect to the Species\n",
    "plt.figure(figsize=(10, 6))\n",
    "sns.scatterplot(x=result['PC1'], y=result['PC2'], s=50)\n",
    "plt.plot(x_vals, y_vals, color='red', linestyle='--')\n",
    "plt.title('Principal Component Analysis of Iris Dataset')\n",
    "plt.xlabel('1st Principal Component')\n",
    "plt.ylabel('2nd Principal Component')"
   ]
  },
  {
   "cell_type": "code",
   "execution_count": 165,
   "id": "9cb13d5e-ce0e-470f-ac5f-514211dcbf41",
   "metadata": {},
   "outputs": [
    {
     "data": {
      "image/png": "[encoded data removed]",
      "text/plain": [
       "<Figure size 640x480 with 2 Axes>"
      ]
     },
     "metadata": {},
     "output_type": "display_data"
    }
   ],
   "source": [
    "scatter = plt.scatter(result['PC1'], result['PC2'], c=result['PC1'], cmap='coolwarm', marker='o', edgecolor='k')\n",
    "plt.title('PCA Scatter Plot Colored by PCA1')\n",
    "plt.xlabel('PC1')\n",
    "plt.ylabel('PC2')\n",
    "plt.colorbar(scatter, label='PCA1 Value')\n",
    "plt.grid(True)"
   ]
  },
  {
   "cell_type": "code",
   "execution_count": 168,
   "id": "349c5015-1fd0-4586-96c6-42d3ba923890",
   "metadata": {},
   "outputs": [
    {
     "data": {
      "image/png": "[encoded data removed]",
      "text/plain": [
       "<Figure size 640x480 with 2 Axes>"
      ]
     },
     "metadata": {},
     "output_type": "display_data"
    }
   ],
   "source": [
    "scatter = plt.scatter(result['PC1'], result['PC2'], c=result['PC2'], cmap='coolwarm', marker='o', edgecolor='k')\n",
    "plt.title('PCA Scatter Plot Colored by PCA1')\n",
    "plt.xlabel('PC1')\n",
    "plt.ylabel('PC2')\n",
    "plt.colorbar(scatter, label='PCA1 Value')\n",
    "plt.grid(True)"
   ]
  },
  {
   "cell_type": "code",
   "execution_count": 169,
   "id": "0eb4848b-3893-4fee-ac03-9d72a3f8b13a",
   "metadata": {},
   "outputs": [],
   "source": [
    "#If I had 3 Principal Components instead of 3"
   ]
  },
  {
   "cell_type": "code",
   "execution_count": 172,
   "id": "42dbcfef-6f07-4936-b1b3-a4efdff606de",
   "metadata": {},
   "outputs": [],
   "source": [
    "proj_1=scaled_data.dot(vectors.T[0])\n",
    "proj_2=scaled_data.dot(vectors.T[1])\n",
    "proj_3=scaled_data.dot(vectors.T[2])\n",
    "result=pd.DataFrame(proj_1, columns=['PC1'])\n",
    "result['PC2']=proj_2\n",
    "result['PC3']=proj_3"
   ]
  },
  {
   "cell_type": "code",
   "execution_count": 174,
   "id": "cbb52b98-a90b-41f0-8fa0-792537312ecb",
   "metadata": {},
   "outputs": [
    {
     "data": {
      "text/html": [
       "<div>\n",
       "<style scoped>\n",
       "    .dataframe tbody tr th:only-of-type {\n",
       "        vertical-align: middle;\n",
       "    }\n",
       "\n",
       "    .dataframe tbody tr th {\n",
       "        vertical-align: top;\n",
       "    }\n",
       "\n",
       "    .dataframe thead th {\n",
       "        text-align: right;\n",
       "    }\n",
       "</style>\n",
       "<table border=\"1\" class=\"dataframe\">\n",
       "  <thead>\n",
       "    <tr style=\"text-align: right;\">\n",
       "      <th></th>\n",
       "      <th>PC1</th>\n",
       "      <th>PC2</th>\n",
       "      <th>PC3</th>\n",
       "    </tr>\n",
       "  </thead>\n",
       "  <tbody>\n",
       "    <tr>\n",
       "      <th>0</th>\n",
       "      <td>1.282047</td>\n",
       "      <td>2.439715</td>\n",
       "      <td>-1.120451</td>\n",
       "    </tr>\n",
       "    <tr>\n",
       "      <th>1</th>\n",
       "      <td>2.748305</td>\n",
       "      <td>2.948970</td>\n",
       "      <td>-0.394121</td>\n",
       "    </tr>\n",
       "    <tr>\n",
       "      <th>2</th>\n",
       "      <td>2.364992</td>\n",
       "      <td>1.316817</td>\n",
       "      <td>-1.321479</td>\n",
       "    </tr>\n",
       "    <tr>\n",
       "      <th>3</th>\n",
       "      <td>3.306351</td>\n",
       "      <td>1.145897</td>\n",
       "      <td>-0.779128</td>\n",
       "    </tr>\n",
       "    <tr>\n",
       "      <th>4</th>\n",
       "      <td>2.572622</td>\n",
       "      <td>2.381815</td>\n",
       "      <td>-1.189811</td>\n",
       "    </tr>\n",
       "    <tr>\n",
       "      <th>...</th>\n",
       "      <td>...</td>\n",
       "      <td>...</td>\n",
       "      <td>...</td>\n",
       "    </tr>\n",
       "    <tr>\n",
       "      <th>194</th>\n",
       "      <td>0.132476</td>\n",
       "      <td>0.404435</td>\n",
       "      <td>3.006078</td>\n",
       "    </tr>\n",
       "    <tr>\n",
       "      <th>195</th>\n",
       "      <td>2.463299</td>\n",
       "      <td>1.230716</td>\n",
       "      <td>3.994125</td>\n",
       "    </tr>\n",
       "    <tr>\n",
       "      <th>196</th>\n",
       "      <td>1.514720</td>\n",
       "      <td>-1.871266</td>\n",
       "      <td>2.840334</td>\n",
       "    </tr>\n",
       "    <tr>\n",
       "      <th>197</th>\n",
       "      <td>-0.688947</td>\n",
       "      <td>-0.159016</td>\n",
       "      <td>2.144615</td>\n",
       "    </tr>\n",
       "    <tr>\n",
       "      <th>198</th>\n",
       "      <td>-3.011891</td>\n",
       "      <td>-1.602488</td>\n",
       "      <td>1.131970</td>\n",
       "    </tr>\n",
       "  </tbody>\n",
       "</table>\n",
       "<p>199 rows × 3 columns</p>\n",
       "</div>"
      ],
      "text/plain": [
       "          PC1       PC2       PC3\n",
       "0    1.282047  2.439715 -1.120451\n",
       "1    2.748305  2.948970 -0.394121\n",
       "2    2.364992  1.316817 -1.321479\n",
       "3    3.306351  1.145897 -0.779128\n",
       "4    2.572622  2.381815 -1.189811\n",
       "..        ...       ...       ...\n",
       "194  0.132476  0.404435  3.006078\n",
       "195  2.463299  1.230716  3.994125\n",
       "196  1.514720 -1.871266  2.840334\n",
       "197 -0.688947 -0.159016  2.144615\n",
       "198 -3.011891 -1.602488  1.131970\n",
       "\n",
       "[199 rows x 3 columns]"
      ]
     },
     "execution_count": 174,
     "metadata": {},
     "output_type": "execute_result"
    }
   ],
   "source": [
    "result"
   ]
  },
  {
   "cell_type": "code",
   "execution_count": null,
   "id": "b103b08f-9404-4e11-b54f-3effe32f841e",
   "metadata": {},
   "outputs": [],
   "source": []
  },
  {
   "cell_type": "code",
   "execution_count": 177,
   "id": "a35768ef-92a6-444e-bf3c-60d612d910fc",
   "metadata": {},
   "outputs": [
    {
     "data": {
      "image/png": "[encoded data removed]",
      "text/plain": [
       "<Figure size 1000x600 with 1 Axes>"
      ]
     },
     "metadata": {},
     "output_type": "display_data"
    }
   ],
   "source": [
    "fig = plt.figure(figsize=(10, 6))\n",
    "ax = fig.add_subplot(111, projection='3d')\n",
    "ax.scatter(result['PC1'], result['PC2'],result['PC3'], c='b', marker='o')\n",
    "ax.set_xlabel('PC1')\n",
    "ax.set_ylabel('PC2')\n",
    "ax.set_zlabel('PC3')\n",
    "plt.show()"
   ]
  },
  {
   "cell_type": "code",
   "execution_count": null,
   "id": "ce06e474-9131-4402-992a-04b11515c585",
   "metadata": {},
   "outputs": [],
   "source": []
  },
  {
   "cell_type": "code",
   "execution_count": 180,
   "id": "41259c2c-e418-4bbb-84ef-87555d44f181",
   "metadata": {},
   "outputs": [
    {
     "data": {
      "application/vnd.plotly.v1+json": {
       "config": {
        "plotlyServerURL": "https://plot.ly"
       },
       "data": [
        {
         "mode": "markers",
         "type": "scatter3d",
         "x": [
          1.2820472661655447,
          2.748305240101036,
          2.3649921441446864,
          3.3063514285352307,
          2.572622069140618,
          2.163828826497139,
          1.4539347812064456,
          1.0483195874603588,
          1.1599218370291862,
          1.3825476805172607,
          0.9390663434221118,
          1.6053693946556615,
          0.8137348542539244,
          0.6850923608264403,
          0.08147023217885552,
          0.5446461143090667,
          3.2679840880905355,
          2.9696432539153026,
          2.4600638520718436,
          1.1818774915279808,
          0.11080654166691874,
          0.5124912484412474,
          1.9407064292924665,
          2.26992397396955,
          1.030042074999102,
          1.165250029363278,
          -0.0561242622021659,
          1.1380471530902625,
          0.7352384548446975,
          3.024101623706634,
          3.9647416795288986,
          2.4522287732229033,
          2.2961831677085587,
          -0.967707475666344,
          -1.8731484824666995,
          -1.4526638158072265,
          -0.0323993021201458,
          1.4528444455459584,
          2.869269533988848,
          0.4831301569258662,
          -0.4770001916693284,
          -1.2735282749776955,
          -2.173215747581912,
          0.4840526199133699,
          0.47411977364103824,
          0.9124306809000339,
          1.6143298846719127,
          0.028488174910314412,
          -1.3173456616592065,
          -0.8858732168740436,
          -0.2662421749575299,
          0.7215530726497006,
          3.0128530218691076,
          1.7089202632217808,
          1.7980650855955402,
          1.630217542520032,
          -1.374599002390371,
          -1.125814700390252,
          0.6395163213797441,
          1.8727504973914013,
          1.7534289511409038,
          1.2282394979052689,
          0.7585022764203213,
          -0.8032656640946276,
          -1.7293383054557965,
          -1.3696722354177748,
          -1.3535020025276587,
          -0.6192982959381581,
          0.8260054808223344,
          0.9348682169845954,
          -0.012316588429893027,
          -1.0242460441269388,
          -3.0932077724726024,
          -2.2566101414708823,
          -1.0222761582213307,
          0.7841133165254441,
          0.8363917525385697,
          0.4966558347339437,
          -0.8023658465166942,
          -2.934945596940053,
          -1.5297254171964276,
          -0.13178638875239138,
          2.729874929895402,
          2.754402760068004,
          1.4092773295178933,
          -1.2446684493930544,
          -1.1509255494031,
          -1.1024315532867857,
          -0.38578622256483946,
          0.17301589349132235,
          1.5373229927428909,
          1.9878126545531984,
          0.45606183856483795,
          -1.3839962157491528,
          -1.7491755945401986,
          -1.6170176837587502,
          -1.6389380979658879,
          -0.7651463530852549,
          1.895145678324287,
          1.7931020778943108,
          0.9847086640325533,
          -0.19066047495194255,
          0.5347252412540133,
          1.2087221651831057,
          1.9321735473314865,
          -0.11060645108752487,
          -1.11215991189704,
          -2.0222987346752648,
          -0.9652783789790966,
          -0.9609048341057406,
          0.7235518500333658,
          -0.548810746551169,
          -0.5676026946184851,
          0.7145346311849652,
          -0.24521485614896238,
          0.659464189018441,
          -0.7390291275742018,
          -0.7261977934525453,
          -0.6544488441083226,
          -0.16611102494115976,
          0.1487722551805696,
          0.01681712918178971,
          1.5579774890056197,
          0.7006515323624073,
          -0.7825524453956487,
          -0.08749033501165798,
          -0.5043055500671862,
          -0.8418822931155634,
          -2.165821282975759,
          0.9363680436043846,
          -0.09723452951293371,
          -1.559659696109506,
          -1.580383911163032,
          -2.0721461311720795,
          -3.9919025337990055,
          -1.4804590476150081,
          -1.136202340888306,
          1.6333079390352083,
          -0.14786056124464858,
          -1.4566919690443507,
          -2.4591324123990104,
          -2.0485138697905114,
          -0.5028157949406463,
          0.9503171506396302,
          1.058061401374652,
          -0.05577729270596034,
          -1.1974527828694592,
          -1.5553900054170566,
          -0.13039261268586744,
          -0.40742336327096396,
          0.5775101732955978,
          1.0435026493897206,
          0.9550167962701177,
          -1.2011300041660047,
          -0.3165090062051833,
          -0.6890098829420523,
          -0.46280240583231913,
          1.7002916966758488,
          1.3802555421921734,
          1.4527739861151319,
          1.3589631727668676,
          2.093971861769285,
          -0.5453710855065881,
          -1.9253196568207722,
          -2.3549533352430294,
          -0.8633532900636871,
          -1.1681359413044365,
          -0.18724182030442188,
          -0.7348587278002187,
          -2.884912840387698,
          -2.1818199762115538,
          -2.262092818332761,
          -0.7493592654518016,
          1.4142867258099496,
          0.583637772897415,
          0.8148127097788556,
          -1.268168463567394,
          -4.397849158401116,
          -4.036852083681967,
          -3.2562252544413104,
          0.4312662998992574,
          0.6628406340868501,
          -0.9472180203006509,
          -1.6474969047807522,
          -2.357332990303947,
          -1.9241187425762778,
          -1.8550535781382635,
          -0.7579680212151377,
          0.8347787059866143,
          0.2727316268151689,
          -1.725491314285054,
          -1.3389321231319502,
          -2.3727443603658926,
          -1.7953525912979775,
          0.1324761604080985,
          2.4632987852494743,
          1.5147201216229755,
          -0.6889474466604729,
          -3.0118909725059684
         ],
         "y": [
          2.439715284688131,
          2.948970471971753,
          1.3168166233924583,
          1.145897392553067,
          2.3818151105627456,
          0.6155938543865634,
          -1.6038839599528207,
          1.7961071204731949,
          3.041370590030063,
          0.20021408792208667,
          1.3872738270130065,
          -1.1480780980590388,
          -0.9828495307295283,
          3.420809798170561,
          -0.0625478398646836,
          -0.4263782102953815,
          1.6630665421014001,
          -1.4073587971432007,
          1.8373372375635058,
          2.36115776406076,
          0.607261383679405,
          -0.19001160910386256,
          -1.0955947583104293,
          1.12545762339784,
          1.0801535782657348,
          0.20859131519799526,
          1.5193655736260454,
          2.8452793810325128,
          2.0603983131436734,
          3.446357920483975,
          -0.08250212972366006,
          -1.488456042780489,
          0.12044248730915938,
          -1.094089823462078,
          2.5449148254612535,
          2.5225426758901666,
          -1.9836694778775812,
          -0.7282969641707533,
          0.2922237292588946,
          -0.6598535125007872,
          -0.0848709797915134,
          -0.09575373611960897,
          0.2040371835111222,
          1.4484300227830476,
          -0.6089265909094246,
          -2.6420738595669215,
          -0.6362329926283524,
          0.0745414549246167,
          0.6629484449129102,
          2.173362788101692,
          -1.0470719280183851,
          -2.4628702906009403,
          -0.36584501218193444,
          -0.3494955708391534,
          0.7035848181011735,
          0.4312167285032074,
          -0.46193425493635276,
          2.303244681925308,
          0.2438312902372962,
          1.6025087418623234,
          2.2789535164050574,
          -0.2768678522353122,
          -2.3567297253960957,
          0.2525877713612999,
          0.07478821783786654,
          2.4885540360724616,
          1.4547450014217052,
          0.1885967432013137,
          -0.17085277741084956,
          -1.482006619691786,
          -1.034143730615977,
          2.810613921915682,
          -0.07821233190294363,
          0.5954927782746164,
          2.436099041218063,
          -0.2913456947271968,
          -4.7582928965750595,
          -0.49458219755941224,
          0.45729326679489557,
          2.102204421427049,
          2.0430580227563957,
          -1.670194684835062,
          -0.1132761026147634,
          -0.9818069004800362,
          -2.169704687144311,
          -1.2370358269547643,
          -0.21123785738414766,
          0.0678137725519648,
          0.5698382286904209,
          -2.189217020688666,
          -1.2330212502572246,
          1.3408106121471093,
          0.4911083599531168,
          -0.8697200182430465,
          0.2821719768204827,
          0.584891817248862,
          -2.3675907500888123,
          0.11815600175242325,
          -0.3357447054024257,
          0.6342710067451505,
          -0.7356323927246634,
          0.14574045228862784,
          2.3366134817568467,
          1.148597924593899,
          1.9595590690442433,
          1.7442412191070715,
          1.4521590971365872,
          -1.631790723470247,
          -1.067685600029447,
          -1.5922713242858921,
          1.0567191359723453,
          0.8560110668879328,
          -0.11063131956154518,
          0.46452168400820537,
          -1.0539971167614441,
          -1.277520501811133,
          -0.1743637088663666,
          0.08995943475533119,
          0.671998542525039,
          1.7850334393527605,
          1.305927235406976,
          -0.9311657524534818,
          0.5535498974626214,
          -1.9372709750280648,
          -0.260750283246925,
          -0.15803783847908165,
          2.7342609444008836,
          0.12054323088507743,
          -0.35160952796997186,
          1.3755924296248376,
          -2.6152336027882717,
          -1.5751601140288676,
          -0.8247141897713595,
          0.9580673628492461,
          -0.2997731314217533,
          0.23262800650450735,
          -3.795621585362403,
          -1.4014059630896867,
          -2.1956787536084508,
          0.6395442165350029,
          -0.161730356207352,
          -0.6924672376296088,
          -0.8395562886638569,
          -0.9997217407494692,
          -1.0612049250446511,
          1.0872140841133389,
          -0.3152796316123746,
          -1.387099404180675,
          1.6170622015093,
          -0.4591336383751919,
          -1.6538341958118832,
          -1.3463485859440698,
          0.2014033571331031,
          -1.7929390637130147,
          1.8229818093865144,
          -0.8833352789267224,
          -1.8189143000979289,
          0.5340679637890278,
          -1.2148971953466592,
          0.8374199595226248,
          -3.3036718217542536,
          -1.3996747447524756,
          1.784945856937464,
          -0.5971934570522538,
          0.2005208270214788,
          -1.112723130374321,
          -1.4094929072753035,
          -2.698808368638211,
          -1.3285913265033564,
          -1.292778465936986,
          1.6757355494117108,
          -0.041356242784377065,
          1.3301778280469299,
          -1.7549488376429843,
          -4.809165227803134,
          -1.511375694010028,
          1.2123036267387188,
          3.189152222671714,
          -0.6985234168915072,
          1.0662001095102598,
          -3.0387172901840653,
          -0.8889902310110449,
          -1.760698614241887,
          1.4855176489115574,
          -0.23034426165743177,
          1.2545428230761047,
          0.18773257801249824,
          -3.375918377176606,
          -1.146181396027773,
          -1.053024793351386,
          -1.5471810232122527,
          3.9553646229170787,
          0.6776168766195756,
          -0.1561325920802518,
          0.4044350391552498,
          1.2307156601016607,
          -1.8712657173954932,
          -0.159016019562721,
          -1.6024878926214514
         ],
         "z": [
          -1.1204509030681558,
          -0.39412135354586886,
          -1.3214794494648374,
          -0.7791277643201443,
          -1.1898111902464548,
          -1.5867731597827965,
          -2.1857393104296046,
          -1.650809569529768,
          -1.3746671454487358,
          -1.6378160525243435,
          -2.1462142702198532,
          -1.600030821126408,
          -1.7772082607464905,
          -0.961485021969104,
          -2.088160879706013,
          -2.54747590603915,
          -0.5480257320981504,
          -1.2099408112515573,
          -0.9103144931003289,
          -1.4721039125402826,
          -1.9245230000561073,
          -1.8638581882637177,
          -0.9333254931574216,
          -0.7549880197478174,
          -1.6071710398241097,
          -1.2227426944934974,
          -1.686799921955336,
          -0.12528268273937604,
          -0.9172839228786942,
          0.1551411640861433,
          -0.14643441624469655,
          -1.6726873805845441,
          -0.76017132570883,
          -2.5447877114017246,
          -1.8443813413481578,
          -1.58139557099135,
          -2.255426370988032,
          -1.6732018592857103,
          -0.3168334537511265,
          -1.8767317142399984,
          -1.8837003650432669,
          -2.0234860479985213,
          -2.5368529155910986,
          -0.7857805838271166,
          -1.757634498353265,
          -2.0998362824288828,
          -1.1390396469727722,
          -1.3418411920552658,
          -1.573175262243598,
          -0.961225211654123,
          -1.4750958284770417,
          -1.6621971132238391,
          -0.16162145731990996,
          -0.9251727516232211,
          -0.2315676503875057,
          0.06827092367131427,
          -2.0465112548893707,
          -1.281805373263282,
          -0.3551011412183699,
          0.5226459199728248,
          0.11031055757729746,
          -0.9062513822156231,
          -1.4772035952539675,
          -1.8328185443460385,
          -1.6490528890352483,
          -0.6174376199119174,
          -0.9642029751123324,
          -1.465566787134631,
          -0.8991168328415403,
          -1.121057840586564,
          -1.229411916679876,
          -0.6525659276398794,
          -2.2288509533525898,
          -1.597724859962442,
          -1.0736807722134127,
          -0.5318604805819342,
          -1.3435663020559485,
          -0.7785561030714294,
          -0.8088072702124687,
          -1.6450474890930977,
          -0.5453396771790978,
          -0.6705708261510055,
          0.7776575047687001,
          0.2982973705515788,
          -0.47021854840999744,
          -1.7098582619576,
          -0.7592744556634512,
          -0.35794224992621815,
          -0.02809780463982614,
          -0.567436239708425,
          0.07570079552216655,
          0.6900910299806444,
          0.0347849752880552,
          -0.8021390018447593,
          -0.5824498983570848,
          -0.5571522081496731,
          -1.4120581245533703,
          -0.7448439861522966,
          1.017381891768038,
          1.1838199428933724,
          0.6581286396247608,
          -0.003895834733270275,
          0.8288119951860937,
          1.4144243294954681,
          2.4432380009326584,
          0.7919257376016555,
          -0.1866239615542471,
          -1.2811415338154788,
          -0.40425044118592723,
          -0.5824954596446394,
          1.1880818071072643,
          0.2082986768590847,
          0.07645940747153111,
          1.316406099012974,
          0.08167094839487705,
          0.8483047662381891,
          0.02854526051695877,
          0.09860699381289387,
          0.3013634842903556,
          0.9337017882225465,
          0.8471643212928519,
          0.06287656980636294,
          1.403030818704399,
          0.6354965897831057,
          0.10015524795298547,
          1.129703607217074,
          1.2084098785482262,
          0.658257569605041,
          -0.9224083461053127,
          1.643621136043891,
          0.11028597632431625,
          -0.7436388132412303,
          -0.24933009740963563,
          0.41651417870405494,
          -1.195668281473437,
          0.3420780129223784,
          -0.7412338424186368,
          1.241470114500722,
          0.18164877078589314,
          0.3511313111080097,
          -0.1911150355651272,
          0.1012305065703632,
          1.0645330163288078,
          1.6161198139781612,
          1.7199043179621685,
          1.1630875323994592,
          0.593517947663666,
          0.5472385820602069,
          2.0907479282559533,
          1.1075180496990178,
          1.0678474358732999,
          1.2827398238359196,
          1.944742485802786,
          0.306574754224889,
          1.9543983318712792,
          1.3493046419140495,
          1.0439527326047466,
          2.6561460069394003,
          1.943426099525783,
          2.094857756461954,
          1.2054050314100357,
          2.238834313574412,
          1.317595647654638,
          0.701065905723462,
          0.9231222824083888,
          1.53260767485572,
          0.5694646363735669,
          0.9714433866335745,
          1.4321308577462828,
          0.025578301343123666,
          1.4373956218065296,
          1.1362628565953876,
          1.662534121344943,
          2.2699636096555906,
          1.0042847027554398,
          2.3153734830283477,
          2.109721888770948,
          0.9522036254506636,
          0.5456406313649855,
          0.39094152810369687,
          1.9483435895463774,
          1.6996146632793638,
          0.7201633886359989,
          1.8500819738760848,
          1.8283519957959986,
          2.537376160263124,
          1.672846906538981,
          1.014647226550424,
          2.171108402052698,
          2.183689605213991,
          1.4556857535675252,
          3.3110656383292176,
          2.3213622506838165,
          2.2785592680932463,
          3.006078186728801,
          3.994124528155929,
          2.840333881174004,
          2.144614968702889,
          1.1319697906231352
         ]
        }
       ],
       "layout": {
        "height": 600,
        "scene": {
         "aspectmode": "auto",
         "aspectratio": {
          "x": 1.068455288036953,
          "y": 1.1198094523153457,
          "z": 0.8357945177036359
         },
         "camera": {
          "center": {
           "x": 0,
           "y": 0,
           "z": 0
          },
          "eye": {
           "x": 1.5879118116621171,
           "y": 1.6118463934506602,
           "z": 0.3239164002008366
          },
          "projection": {
           "type": "perspective"
          },
          "up": {
           "x": 0,
           "y": 0,
           "z": 1
          }
         },
         "xaxis": {
          "title": {
           "text": "Principal Component 1 (PC1)"
          },
          "type": "linear"
         },
         "yaxis": {
          "title": {
           "text": "Principal Component 2 (PC2)"
          },
          "type": "linear"
         },
         "zaxis": {
          "title": {
           "text": "Principal Component 3 (PC3)"
          },
          "type": "linear"
         }
        },
        "template": {
         "data": {
          "bar": [
           {
            "error_x": {
             "color": "#2a3f5f"
            },
            "error_y": {
             "color": "#2a3f5f"
            },
            "marker": {
             "line": {
              "color": "#E5ECF6",
              "width": 0.5
             },
             "pattern": {
              "fillmode": "overlay",
              "size": 10,
              "solidity": 0.2
             }
            },
            "type": "bar"
           }
          ],
          "barpolar": [
           {
            "marker": {
             "line": {
              "color": "#E5ECF6",
              "width": 0.5
             },
             "pattern": {
              "fillmode": "overlay",
              "size": 10,
              "solidity": 0.2
             }
            },
            "type": "barpolar"
           }
          ],
          "carpet": [
           {
            "aaxis": {
             "endlinecolor": "#2a3f5f",
             "gridcolor": "white",
             "linecolor": "white",
             "minorgridcolor": "white",
             "startlinecolor": "#2a3f5f"
            },
            "baxis": {
             "endlinecolor": "#2a3f5f",
             "gridcolor": "white",
             "linecolor": "white",
             "minorgridcolor": "white",
             "startlinecolor": "#2a3f5f"
            },
            "type": "carpet"
           }
          ],
          "choropleth": [
           {
            "colorbar": {
             "outlinewidth": 0,
             "ticks": ""
            },
            "type": "choropleth"
           }
          ],
          "contour": [
           {
            "colorbar": {
             "outlinewidth": 0,
             "ticks": ""
            },
            "colorscale": [
             [
              0,
              "#0d0887"
             ],
             [
              0.1111111111111111,
              "#46039f"
             ],
             [
              0.2222222222222222,
              "#7201a8"
             ],
             [
              0.3333333333333333,
              "#9c179e"
             ],
             [
              0.4444444444444444,
              "#bd3786"
             ],
             [
              0.5555555555555556,
              "#d8576b"
             ],
             [
              0.6666666666666666,
              "#ed7953"
             ],
             [
              0.7777777777777778,
              "#fb9f3a"
             ],
             [
              0.8888888888888888,
              "#fdca26"
             ],
             [
              1,
              "#f0f921"
             ]
            ],
            "type": "contour"
           }
          ],
          "contourcarpet": [
           {
            "colorbar": {
             "outlinewidth": 0,
             "ticks": ""
            },
            "type": "contourcarpet"
           }
          ],
          "heatmap": [
           {
            "colorbar": {
             "outlinewidth": 0,
             "ticks": ""
            },
            "colorscale": [
             [
              0,
              "#0d0887"
             ],
             [
              0.1111111111111111,
              "#46039f"
             ],
             [
              0.2222222222222222,
              "#7201a8"
             ],
             [
              0.3333333333333333,
              "#9c179e"
             ],
             [
              0.4444444444444444,
              "#bd3786"
             ],
             [
              0.5555555555555556,
              "#d8576b"
             ],
             [
              0.6666666666666666,
              "#ed7953"
             ],
             [
              0.7777777777777778,
              "#fb9f3a"
             ],
             [
              0.8888888888888888,
              "#fdca26"
             ],
             [
              1,
              "#f0f921"
             ]
            ],
            "type": "heatmap"
           }
          ],
          "heatmapgl": [
           {
            "colorbar": {
             "outlinewidth": 0,
             "ticks": ""
            },
            "colorscale": [
             [
              0,
              "#0d0887"
             ],
             [
              0.1111111111111111,
              "#46039f"
             ],
             [
              0.2222222222222222,
              "#7201a8"
             ],
             [
              0.3333333333333333,
              "#9c179e"
             ],
             [
              0.4444444444444444,
              "#bd3786"
             ],
             [
              0.5555555555555556,
              "#d8576b"
             ],
             [
              0.6666666666666666,
              "#ed7953"
             ],
             [
              0.7777777777777778,
              "#fb9f3a"
             ],
             [
              0.8888888888888888,
              "#fdca26"
             ],
             [
              1,
              "#f0f921"
             ]
            ],
            "type": "heatmapgl"
           }
          ],
          "histogram": [
           {
            "marker": {
             "pattern": {
              "fillmode": "overlay",
              "size": 10,
              "solidity": 0.2
             }
            },
            "type": "histogram"
           }
          ],
          "histogram2d": [
           {
            "colorbar": {
             "outlinewidth": 0,
             "ticks": ""
            },
            "colorscale": [
             [
              0,
              "#0d0887"
             ],
             [
              0.1111111111111111,
              "#46039f"
             ],
             [
              0.2222222222222222,
              "#7201a8"
             ],
             [
              0.3333333333333333,
              "#9c179e"
             ],
             [
              0.4444444444444444,
              "#bd3786"
             ],
             [
              0.5555555555555556,
              "#d8576b"
             ],
             [
              0.6666666666666666,
              "#ed7953"
             ],
             [
              0.7777777777777778,
              "#fb9f3a"
             ],
             [
              0.8888888888888888,
              "#fdca26"
             ],
             [
              1,
              "#f0f921"
             ]
            ],
            "type": "histogram2d"
           }
          ],
          "histogram2dcontour": [
           {
            "colorbar": {
             "outlinewidth": 0,
             "ticks": ""
            },
            "colorscale": [
             [
              0,
              "#0d0887"
             ],
             [
              0.1111111111111111,
              "#46039f"
             ],
             [
              0.2222222222222222,
              "#7201a8"
             ],
             [
              0.3333333333333333,
              "#9c179e"
             ],
             [
              0.4444444444444444,
              "#bd3786"
             ],
             [
              0.5555555555555556,
              "#d8576b"
             ],
             [
              0.6666666666666666,
              "#ed7953"
             ],
             [
              0.7777777777777778,
              "#fb9f3a"
             ],
             [
              0.8888888888888888,
              "#fdca26"
             ],
             [
              1,
              "#f0f921"
             ]
            ],
            "type": "histogram2dcontour"
           }
          ],
          "mesh3d": [
           {
            "colorbar": {
             "outlinewidth": 0,
             "ticks": ""
            },
            "type": "mesh3d"
           }
          ],
          "parcoords": [
           {
            "line": {
             "colorbar": {
              "outlinewidth": 0,
              "ticks": ""
             }
            },
            "type": "parcoords"
           }
          ],
          "pie": [
           {
            "automargin": true,
            "type": "pie"
           }
          ],
          "scatter": [
           {
            "fillpattern": {
             "fillmode": "overlay",
             "size": 10,
             "solidity": 0.2
            },
            "type": "scatter"
           }
          ],
          "scatter3d": [
           {
            "line": {
             "colorbar": {
              "outlinewidth": 0,
              "ticks": ""
             }
            },
            "marker": {
             "colorbar": {
              "outlinewidth": 0,
              "ticks": ""
             }
            },
            "type": "scatter3d"
           }
          ],
          "scattercarpet": [
           {
            "marker": {
             "colorbar": {
              "outlinewidth": 0,
              "ticks": ""
             }
            },
            "type": "scattercarpet"
           }
          ],
          "scattergeo": [
           {
            "marker": {
             "colorbar": {
              "outlinewidth": 0,
              "ticks": ""
             }
            },
            "type": "scattergeo"
           }
          ],
          "scattergl": [
           {
            "marker": {
             "colorbar": {
              "outlinewidth": 0,
              "ticks": ""
             }
            },
            "type": "scattergl"
           }
          ],
          "scattermapbox": [
           {
            "marker": {
             "colorbar": {
              "outlinewidth": 0,
              "ticks": ""
             }
            },
            "type": "scattermapbox"
           }
          ],
          "scatterpolar": [
           {
            "marker": {
             "colorbar": {
              "outlinewidth": 0,
              "ticks": ""
             }
            },
            "type": "scatterpolar"
           }
          ],
          "scatterpolargl": [
           {
            "marker": {
             "colorbar": {
              "outlinewidth": 0,
              "ticks": ""
             }
            },
            "type": "scatterpolargl"
           }
          ],
          "scatterternary": [
           {
            "marker": {
             "colorbar": {
              "outlinewidth": 0,
              "ticks": ""
             }
            },
            "type": "scatterternary"
           }
          ],
          "surface": [
           {
            "colorbar": {
             "outlinewidth": 0,
             "ticks": ""
            },
            "colorscale": [
             [
              0,
              "#0d0887"
             ],
             [
              0.1111111111111111,
              "#46039f"
             ],
             [
              0.2222222222222222,
              "#7201a8"
             ],
             [
              0.3333333333333333,
              "#9c179e"
             ],
             [
              0.4444444444444444,
              "#bd3786"
             ],
             [
              0.5555555555555556,
              "#d8576b"
             ],
             [
              0.6666666666666666,
              "#ed7953"
             ],
             [
              0.7777777777777778,
              "#fb9f3a"
             ],
             [
              0.8888888888888888,
              "#fdca26"
             ],
             [
              1,
              "#f0f921"
             ]
            ],
            "type": "surface"
           }
          ],
          "table": [
           {
            "cells": {
             "fill": {
              "color": "#EBF0F8"
             },
             "line": {
              "color": "white"
             }
            },
            "header": {
             "fill": {
              "color": "#C8D4E3"
             },
             "line": {
              "color": "white"
             }
            },
            "type": "table"
           }
          ]
         },
         "layout": {
          "annotationdefaults": {
           "arrowcolor": "#2a3f5f",
           "arrowhead": 0,
           "arrowwidth": 1
          },
          "autotypenumbers": "strict",
          "coloraxis": {
           "colorbar": {
            "outlinewidth": 0,
            "ticks": ""
           }
          },
          "colorscale": {
           "diverging": [
            [
             0,
             "#8e0152"
            ],
            [
             0.1,
             "#c51b7d"
            ],
            [
             0.2,
             "#de77ae"
            ],
            [
             0.3,
             "#f1b6da"
            ],
            [
             0.4,
             "#fde0ef"
            ],
            [
             0.5,
             "#f7f7f7"
            ],
            [
             0.6,
             "#e6f5d0"
            ],
            [
             0.7,
             "#b8e186"
            ],
            [
             0.8,
             "#7fbc41"
            ],
            [
             0.9,
             "#4d9221"
            ],
            [
             1,
             "#276419"
            ]
           ],
           "sequential": [
            [
             0,
             "#0d0887"
            ],
            [
             0.1111111111111111,
             "#46039f"
            ],
            [
             0.2222222222222222,
             "#7201a8"
            ],
            [
             0.3333333333333333,
             "#9c179e"
            ],
            [
             0.4444444444444444,
             "#bd3786"
            ],
            [
             0.5555555555555556,
             "#d8576b"
            ],
            [
             0.6666666666666666,
             "#ed7953"
            ],
            [
             0.7777777777777778,
             "#fb9f3a"
            ],
            [
             0.8888888888888888,
             "#fdca26"
            ],
            [
             1,
             "#f0f921"
            ]
           ],
           "sequentialminus": [
            [
             0,
             "#0d0887"
            ],
            [
             0.1111111111111111,
             "#46039f"
            ],
            [
             0.2222222222222222,
             "#7201a8"
            ],
            [
             0.3333333333333333,
             "#9c179e"
            ],
            [
             0.4444444444444444,
             "#bd3786"
            ],
            [
             0.5555555555555556,
             "#d8576b"
            ],
            [
             0.6666666666666666,
             "#ed7953"
            ],
            [
             0.7777777777777778,
             "#fb9f3a"
            ],
            [
             0.8888888888888888,
             "#fdca26"
            ],
            [
             1,
             "#f0f921"
            ]
           ]
          },
          "colorway": [
           "#636efa",
           "#EF553B",
           "#00cc96",
           "#ab63fa",
           "#FFA15A",
           "#19d3f3",
           "#FF6692",
           "#B6E880",
           "#FF97FF",
           "#FECB52"
          ],
          "font": {
           "color": "#2a3f5f"
          },
          "geo": {
           "bgcolor": "white",
           "lakecolor": "white",
           "landcolor": "#E5ECF6",
           "showlakes": true,
           "showland": true,
           "subunitcolor": "white"
          },
          "hoverlabel": {
           "align": "left"
          },
          "hovermode": "closest",
          "mapbox": {
           "style": "light"
          },
          "paper_bgcolor": "white",
          "plot_bgcolor": "#E5ECF6",
          "polar": {
           "angularaxis": {
            "gridcolor": "white",
            "linecolor": "white",
            "ticks": ""
           },
           "bgcolor": "#E5ECF6",
           "radialaxis": {
            "gridcolor": "white",
            "linecolor": "white",
            "ticks": ""
           }
          },
          "scene": {
           "xaxis": {
            "backgroundcolor": "#E5ECF6",
            "gridcolor": "white",
            "gridwidth": 2,
            "linecolor": "white",
            "showbackground": true,
            "ticks": "",
            "zerolinecolor": "white"
           },
           "yaxis": {
            "backgroundcolor": "#E5ECF6",
            "gridcolor": "white",
            "gridwidth": 2,
            "linecolor": "white",
            "showbackground": true,
            "ticks": "",
            "zerolinecolor": "white"
           },
           "zaxis": {
            "backgroundcolor": "#E5ECF6",
            "gridcolor": "white",
            "gridwidth": 2,
            "linecolor": "white",
            "showbackground": true,
            "ticks": "",
            "zerolinecolor": "white"
           }
          },
          "shapedefaults": {
           "line": {
            "color": "#2a3f5f"
           }
          },
          "ternary": {
           "aaxis": {
            "gridcolor": "white",
            "linecolor": "white",
            "ticks": ""
           },
           "baxis": {
            "gridcolor": "white",
            "linecolor": "white",
            "ticks": ""
           },
           "bgcolor": "#E5ECF6",
           "caxis": {
            "gridcolor": "white",
            "linecolor": "white",
            "ticks": ""
           }
          },
          "title": {
           "x": 0.05
          },
          "xaxis": {
           "automargin": true,
           "gridcolor": "white",
           "linecolor": "white",
           "ticks": "",
           "title": {
            "standoff": 15
           },
           "zerolinecolor": "white",
           "zerolinewidth": 2
          },
          "yaxis": {
           "automargin": true,
           "gridcolor": "white",
           "linecolor": "white",
           "ticks": "",
           "title": {
            "standoff": 15
           },
           "zerolinecolor": "white",
           "zerolinewidth": 2
          }
         }
        },
        "title": {
         "text": "3D PCA Plot"
        },
        "width": 800
       }
      },
      "image/png": "[encoded data removed]",
      "text/html": [
       "<div>                            <div id=\"d91e73b8-d050-4d85-8267-5daa8e06c956\" class=\"plotly-graph-div\" style=\"height:600px; width:800px;\"></div>            <script type=\"text/javascript\">                require([\"plotly\"], function(Plotly) {                    window.PLOTLYENV=window.PLOTLYENV || {};                                    if (document.getElementById(\"d91e73b8-d050-4d85-8267-5daa8e06c956\")) {                    Plotly.newPlot(                        \"d91e73b8-d050-4d85-8267-5daa8e06c956\",                        [{\"mode\":\"markers\",\"x\":[1.2820472661655447,2.748305240101036,2.3649921441446864,3.3063514285352307,2.572622069140618,2.163828826497139,1.4539347812064456,1.0483195874603588,1.1599218370291862,1.3825476805172607,0.9390663434221118,1.6053693946556615,0.8137348542539244,0.6850923608264403,0.08147023217885552,0.5446461143090667,3.2679840880905355,2.9696432539153026,2.4600638520718436,1.1818774915279808,0.11080654166691874,0.5124912484412474,1.9407064292924665,2.26992397396955,1.030042074999102,1.165250029363278,-0.0561242622021659,1.1380471530902625,0.7352384548446975,3.024101623706634,3.9647416795288986,2.4522287732229033,2.2961831677085587,-0.967707475666344,-1.8731484824666995,-1.4526638158072265,-0.0323993021201458,1.4528444455459584,2.869269533988848,0.4831301569258662,-0.4770001916693284,-1.2735282749776955,-2.173215747581912,0.4840526199133699,0.47411977364103824,0.9124306809000339,1.6143298846719127,0.028488174910314412,-1.3173456616592065,-0.8858732168740436,-0.2662421749575299,0.7215530726497006,3.0128530218691076,1.7089202632217808,1.7980650855955402,1.630217542520032,-1.374599002390371,-1.125814700390252,0.6395163213797441,1.8727504973914013,1.7534289511409038,1.2282394979052689,0.7585022764203213,-0.8032656640946276,-1.7293383054557965,-1.3696722354177748,-1.3535020025276587,-0.6192982959381581,0.8260054808223344,0.9348682169845954,-0.012316588429893027,-1.0242460441269388,-3.0932077724726024,-2.2566101414708823,-1.0222761582213307,0.7841133165254441,0.8363917525385697,0.4966558347339437,-0.8023658465166942,-2.934945596940053,-1.5297254171964276,-0.13178638875239138,2.729874929895402,2.754402760068004,1.4092773295178933,-1.2446684493930544,-1.1509255494031,-1.1024315532867857,-0.38578622256483946,0.17301589349132235,1.5373229927428909,1.9878126545531984,0.45606183856483795,-1.3839962157491528,-1.7491755945401986,-1.6170176837587502,-1.6389380979658879,-0.7651463530852549,1.895145678324287,1.7931020778943108,0.9847086640325533,-0.19066047495194255,0.5347252412540133,1.2087221651831057,1.9321735473314865,-0.11060645108752487,-1.11215991189704,-2.0222987346752648,-0.9652783789790966,-0.9609048341057406,0.7235518500333658,-0.548810746551169,-0.5676026946184851,0.7145346311849652,-0.24521485614896238,0.659464189018441,-0.7390291275742018,-0.7261977934525453,-0.6544488441083226,-0.16611102494115976,0.1487722551805696,0.01681712918178971,1.5579774890056197,0.7006515323624073,-0.7825524453956487,-0.08749033501165798,-0.5043055500671862,-0.8418822931155634,-2.165821282975759,0.9363680436043846,-0.09723452951293371,-1.559659696109506,-1.580383911163032,-2.0721461311720795,-3.9919025337990055,-1.4804590476150081,-1.136202340888306,1.6333079390352083,-0.14786056124464858,-1.4566919690443507,-2.4591324123990104,-2.0485138697905114,-0.5028157949406463,0.9503171506396302,1.058061401374652,-0.05577729270596034,-1.1974527828694592,-1.5553900054170566,-0.13039261268586744,-0.40742336327096396,0.5775101732955978,1.0435026493897206,0.9550167962701177,-1.2011300041660047,-0.3165090062051833,-0.6890098829420523,-0.46280240583231913,1.7002916966758488,1.3802555421921734,1.4527739861151319,1.3589631727668676,2.093971861769285,-0.5453710855065881,-1.9253196568207722,-2.3549533352430294,-0.8633532900636871,-1.1681359413044365,-0.18724182030442188,-0.7348587278002187,-2.884912840387698,-2.1818199762115538,-2.262092818332761,-0.7493592654518016,1.4142867258099496,0.583637772897415,0.8148127097788556,-1.268168463567394,-4.397849158401116,-4.036852083681967,-3.2562252544413104,0.4312662998992574,0.6628406340868501,-0.9472180203006509,-1.6474969047807522,-2.357332990303947,-1.9241187425762778,-1.8550535781382635,-0.7579680212151377,0.8347787059866143,0.2727316268151689,-1.725491314285054,-1.3389321231319502,-2.3727443603658926,-1.7953525912979775,0.1324761604080985,2.4632987852494743,1.5147201216229755,-0.6889474466604729,-3.0118909725059684],\"y\":[2.439715284688131,2.948970471971753,1.3168166233924583,1.145897392553067,2.3818151105627456,0.6155938543865634,-1.6038839599528207,1.7961071204731949,3.041370590030063,0.20021408792208667,1.3872738270130065,-1.1480780980590388,-0.9828495307295283,3.420809798170561,-0.0625478398646836,-0.4263782102953815,1.6630665421014001,-1.4073587971432007,1.8373372375635058,2.36115776406076,0.607261383679405,-0.19001160910386256,-1.0955947583104293,1.12545762339784,1.0801535782657348,0.20859131519799526,1.5193655736260454,2.8452793810325128,2.0603983131436734,3.446357920483975,-0.08250212972366006,-1.488456042780489,0.12044248730915938,-1.094089823462078,2.5449148254612535,2.5225426758901666,-1.9836694778775812,-0.7282969641707533,0.2922237292588946,-0.6598535125007872,-0.0848709797915134,-0.09575373611960897,0.2040371835111222,1.4484300227830476,-0.6089265909094246,-2.6420738595669215,-0.6362329926283524,0.0745414549246167,0.6629484449129102,2.173362788101692,-1.0470719280183851,-2.4628702906009403,-0.36584501218193444,-0.3494955708391534,0.7035848181011735,0.4312167285032074,-0.46193425493635276,2.303244681925308,0.2438312902372962,1.6025087418623234,2.2789535164050574,-0.2768678522353122,-2.3567297253960957,0.2525877713612999,0.07478821783786654,2.4885540360724616,1.4547450014217052,0.1885967432013137,-0.17085277741084956,-1.482006619691786,-1.034143730615977,2.810613921915682,-0.07821233190294363,0.5954927782746164,2.436099041218063,-0.2913456947271968,-4.7582928965750595,-0.49458219755941224,0.45729326679489557,2.102204421427049,2.0430580227563957,-1.670194684835062,-0.1132761026147634,-0.9818069004800362,-2.169704687144311,-1.2370358269547643,-0.21123785738414766,0.0678137725519648,0.5698382286904209,-2.189217020688666,-1.2330212502572246,1.3408106121471093,0.4911083599531168,-0.8697200182430465,0.2821719768204827,0.584891817248862,-2.3675907500888123,0.11815600175242325,-0.3357447054024257,0.6342710067451505,-0.7356323927246634,0.14574045228862784,2.3366134817568467,1.148597924593899,1.9595590690442433,1.7442412191070715,1.4521590971365872,-1.631790723470247,-1.067685600029447,-1.5922713242858921,1.0567191359723453,0.8560110668879328,-0.11063131956154518,0.46452168400820537,-1.0539971167614441,-1.277520501811133,-0.1743637088663666,0.08995943475533119,0.671998542525039,1.7850334393527605,1.305927235406976,-0.9311657524534818,0.5535498974626214,-1.9372709750280648,-0.260750283246925,-0.15803783847908165,2.7342609444008836,0.12054323088507743,-0.35160952796997186,1.3755924296248376,-2.6152336027882717,-1.5751601140288676,-0.8247141897713595,0.9580673628492461,-0.2997731314217533,0.23262800650450735,-3.795621585362403,-1.4014059630896867,-2.1956787536084508,0.6395442165350029,-0.161730356207352,-0.6924672376296088,-0.8395562886638569,-0.9997217407494692,-1.0612049250446511,1.0872140841133389,-0.3152796316123746,-1.387099404180675,1.6170622015093,-0.4591336383751919,-1.6538341958118832,-1.3463485859440698,0.2014033571331031,-1.7929390637130147,1.8229818093865144,-0.8833352789267224,-1.8189143000979289,0.5340679637890278,-1.2148971953466592,0.8374199595226248,-3.3036718217542536,-1.3996747447524756,1.784945856937464,-0.5971934570522538,0.2005208270214788,-1.112723130374321,-1.4094929072753035,-2.698808368638211,-1.3285913265033564,-1.292778465936986,1.6757355494117108,-0.041356242784377065,1.3301778280469299,-1.7549488376429843,-4.809165227803134,-1.511375694010028,1.2123036267387188,3.189152222671714,-0.6985234168915072,1.0662001095102598,-3.0387172901840653,-0.8889902310110449,-1.760698614241887,1.4855176489115574,-0.23034426165743177,1.2545428230761047,0.18773257801249824,-3.375918377176606,-1.146181396027773,-1.053024793351386,-1.5471810232122527,3.9553646229170787,0.6776168766195756,-0.1561325920802518,0.4044350391552498,1.2307156601016607,-1.8712657173954932,-0.159016019562721,-1.6024878926214514],\"z\":[-1.1204509030681558,-0.39412135354586886,-1.3214794494648374,-0.7791277643201443,-1.1898111902464548,-1.5867731597827965,-2.1857393104296046,-1.650809569529768,-1.3746671454487358,-1.6378160525243435,-2.1462142702198532,-1.600030821126408,-1.7772082607464905,-0.961485021969104,-2.088160879706013,-2.54747590603915,-0.5480257320981504,-1.2099408112515573,-0.9103144931003289,-1.4721039125402826,-1.9245230000561073,-1.8638581882637177,-0.9333254931574216,-0.7549880197478174,-1.6071710398241097,-1.2227426944934974,-1.686799921955336,-0.12528268273937604,-0.9172839228786942,0.1551411640861433,-0.14643441624469655,-1.6726873805845441,-0.76017132570883,-2.5447877114017246,-1.8443813413481578,-1.58139557099135,-2.255426370988032,-1.6732018592857103,-0.3168334537511265,-1.8767317142399984,-1.8837003650432669,-2.0234860479985213,-2.5368529155910986,-0.7857805838271166,-1.757634498353265,-2.0998362824288828,-1.1390396469727722,-1.3418411920552658,-1.573175262243598,-0.961225211654123,-1.4750958284770417,-1.6621971132238391,-0.16162145731990996,-0.9251727516232211,-0.2315676503875057,0.06827092367131427,-2.0465112548893707,-1.281805373263282,-0.3551011412183699,0.5226459199728248,0.11031055757729746,-0.9062513822156231,-1.4772035952539675,-1.8328185443460385,-1.6490528890352483,-0.6174376199119174,-0.9642029751123324,-1.465566787134631,-0.8991168328415403,-1.121057840586564,-1.229411916679876,-0.6525659276398794,-2.2288509533525898,-1.597724859962442,-1.0736807722134127,-0.5318604805819342,-1.3435663020559485,-0.7785561030714294,-0.8088072702124687,-1.6450474890930977,-0.5453396771790978,-0.6705708261510055,0.7776575047687001,0.2982973705515788,-0.47021854840999744,-1.7098582619576,-0.7592744556634512,-0.35794224992621815,-0.02809780463982614,-0.567436239708425,0.07570079552216655,0.6900910299806444,0.0347849752880552,-0.8021390018447593,-0.5824498983570848,-0.5571522081496731,-1.4120581245533703,-0.7448439861522966,1.017381891768038,1.1838199428933724,0.6581286396247608,-0.003895834733270275,0.8288119951860937,1.4144243294954681,2.4432380009326584,0.7919257376016555,-0.1866239615542471,-1.2811415338154788,-0.40425044118592723,-0.5824954596446394,1.1880818071072643,0.2082986768590847,0.07645940747153111,1.316406099012974,0.08167094839487705,0.8483047662381891,0.02854526051695877,0.09860699381289387,0.3013634842903556,0.9337017882225465,0.8471643212928519,0.06287656980636294,1.403030818704399,0.6354965897831057,0.10015524795298547,1.129703607217074,1.2084098785482262,0.658257569605041,-0.9224083461053127,1.643621136043891,0.11028597632431625,-0.7436388132412303,-0.24933009740963563,0.41651417870405494,-1.195668281473437,0.3420780129223784,-0.7412338424186368,1.241470114500722,0.18164877078589314,0.3511313111080097,-0.1911150355651272,0.1012305065703632,1.0645330163288078,1.6161198139781612,1.7199043179621685,1.1630875323994592,0.593517947663666,0.5472385820602069,2.0907479282559533,1.1075180496990178,1.0678474358732999,1.2827398238359196,1.944742485802786,0.306574754224889,1.9543983318712792,1.3493046419140495,1.0439527326047466,2.6561460069394003,1.943426099525783,2.094857756461954,1.2054050314100357,2.238834313574412,1.317595647654638,0.701065905723462,0.9231222824083888,1.53260767485572,0.5694646363735669,0.9714433866335745,1.4321308577462828,0.025578301343123666,1.4373956218065296,1.1362628565953876,1.662534121344943,2.2699636096555906,1.0042847027554398,2.3153734830283477,2.109721888770948,0.9522036254506636,0.5456406313649855,0.39094152810369687,1.9483435895463774,1.6996146632793638,0.7201633886359989,1.8500819738760848,1.8283519957959986,2.537376160263124,1.672846906538981,1.014647226550424,2.171108402052698,2.183689605213991,1.4556857535675252,3.3110656383292176,2.3213622506838165,2.2785592680932463,3.006078186728801,3.994124528155929,2.840333881174004,2.144614968702889,1.1319697906231352],\"type\":\"scatter3d\"}],                        {\"template\":{\"data\":{\"histogram2dcontour\":[{\"type\":\"histogram2dcontour\",\"colorbar\":{\"outlinewidth\":0,\"ticks\":\"\"},\"colorscale\":[[0.0,\"#0d0887\"],[0.1111111111111111,\"#46039f\"],[0.2222222222222222,\"#7201a8\"],[0.3333333333333333,\"#9c179e\"],[0.4444444444444444,\"#bd3786\"],[0.5555555555555556,\"#d8576b\"],[0.6666666666666666,\"#ed7953\"],[0.7777777777777778,\"#fb9f3a\"],[0.8888888888888888,\"#fdca26\"],[1.0,\"#f0f921\"]]}],\"choropleth\":[{\"type\":\"choropleth\",\"colorbar\":{\"outlinewidth\":0,\"ticks\":\"\"}}],\"histogram2d\":[{\"type\":\"histogram2d\",\"colorbar\":{\"outlinewidth\":0,\"ticks\":\"\"},\"colorscale\":[[0.0,\"#0d0887\"],[0.1111111111111111,\"#46039f\"],[0.2222222222222222,\"#7201a8\"],[0.3333333333333333,\"#9c179e\"],[0.4444444444444444,\"#bd3786\"],[0.5555555555555556,\"#d8576b\"],[0.6666666666666666,\"#ed7953\"],[0.7777777777777778,\"#fb9f3a\"],[0.8888888888888888,\"#fdca26\"],[1.0,\"#f0f921\"]]}],\"heatmap\":[{\"type\":\"heatmap\",\"colorbar\":{\"outlinewidth\":0,\"ticks\":\"\"},\"colorscale\":[[0.0,\"#0d0887\"],[0.1111111111111111,\"#46039f\"],[0.2222222222222222,\"#7201a8\"],[0.3333333333333333,\"#9c179e\"],[0.4444444444444444,\"#bd3786\"],[0.5555555555555556,\"#d8576b\"],[0.6666666666666666,\"#ed7953\"],[0.7777777777777778,\"#fb9f3a\"],[0.8888888888888888,\"#fdca26\"],[1.0,\"#f0f921\"]]}],\"heatmapgl\":[{\"type\":\"heatmapgl\",\"colorbar\":{\"outlinewidth\":0,\"ticks\":\"\"},\"colorscale\":[[0.0,\"#0d0887\"],[0.1111111111111111,\"#46039f\"],[0.2222222222222222,\"#7201a8\"],[0.3333333333333333,\"#9c179e\"],[0.4444444444444444,\"#bd3786\"],[0.5555555555555556,\"#d8576b\"],[0.6666666666666666,\"#ed7953\"],[0.7777777777777778,\"#fb9f3a\"],[0.8888888888888888,\"#fdca26\"],[1.0,\"#f0f921\"]]}],\"contourcarpet\":[{\"type\":\"contourcarpet\",\"colorbar\":{\"outlinewidth\":0,\"ticks\":\"\"}}],\"contour\":[{\"type\":\"contour\",\"colorbar\":{\"outlinewidth\":0,\"ticks\":\"\"},\"colorscale\":[[0.0,\"#0d0887\"],[0.1111111111111111,\"#46039f\"],[0.2222222222222222,\"#7201a8\"],[0.3333333333333333,\"#9c179e\"],[0.4444444444444444,\"#bd3786\"],[0.5555555555555556,\"#d8576b\"],[0.6666666666666666,\"#ed7953\"],[0.7777777777777778,\"#fb9f3a\"],[0.8888888888888888,\"#fdca26\"],[1.0,\"#f0f921\"]]}],\"surface\":[{\"type\":\"surface\",\"colorbar\":{\"outlinewidth\":0,\"ticks\":\"\"},\"colorscale\":[[0.0,\"#0d0887\"],[0.1111111111111111,\"#46039f\"],[0.2222222222222222,\"#7201a8\"],[0.3333333333333333,\"#9c179e\"],[0.4444444444444444,\"#bd3786\"],[0.5555555555555556,\"#d8576b\"],[0.6666666666666666,\"#ed7953\"],[0.7777777777777778,\"#fb9f3a\"],[0.8888888888888888,\"#fdca26\"],[1.0,\"#f0f921\"]]}],\"mesh3d\":[{\"type\":\"mesh3d\",\"colorbar\":{\"outlinewidth\":0,\"ticks\":\"\"}}],\"scatter\":[{\"fillpattern\":{\"fillmode\":\"overlay\",\"size\":10,\"solidity\":0.2},\"type\":\"scatter\"}],\"parcoords\":[{\"type\":\"parcoords\",\"line\":{\"colorbar\":{\"outlinewidth\":0,\"ticks\":\"\"}}}],\"scatterpolargl\":[{\"type\":\"scatterpolargl\",\"marker\":{\"colorbar\":{\"outlinewidth\":0,\"ticks\":\"\"}}}],\"bar\":[{\"error_x\":{\"color\":\"#2a3f5f\"},\"error_y\":{\"color\":\"#2a3f5f\"},\"marker\":{\"line\":{\"color\":\"#E5ECF6\",\"width\":0.5},\"pattern\":{\"fillmode\":\"overlay\",\"size\":10,\"solidity\":0.2}},\"type\":\"bar\"}],\"scattergeo\":[{\"type\":\"scattergeo\",\"marker\":{\"colorbar\":{\"outlinewidth\":0,\"ticks\":\"\"}}}],\"scatterpolar\":[{\"type\":\"scatterpolar\",\"marker\":{\"colorbar\":{\"outlinewidth\":0,\"ticks\":\"\"}}}],\"histogram\":[{\"marker\":{\"pattern\":{\"fillmode\":\"overlay\",\"size\":10,\"solidity\":0.2}},\"type\":\"histogram\"}],\"scattergl\":[{\"type\":\"scattergl\",\"marker\":{\"colorbar\":{\"outlinewidth\":0,\"ticks\":\"\"}}}],\"scatter3d\":[{\"type\":\"scatter3d\",\"line\":{\"colorbar\":{\"outlinewidth\":0,\"ticks\":\"\"}},\"marker\":{\"colorbar\":{\"outlinewidth\":0,\"ticks\":\"\"}}}],\"scattermapbox\":[{\"type\":\"scattermapbox\",\"marker\":{\"colorbar\":{\"outlinewidth\":0,\"ticks\":\"\"}}}],\"scatterternary\":[{\"type\":\"scatterternary\",\"marker\":{\"colorbar\":{\"outlinewidth\":0,\"ticks\":\"\"}}}],\"scattercarpet\":[{\"type\":\"scattercarpet\",\"marker\":{\"colorbar\":{\"outlinewidth\":0,\"ticks\":\"\"}}}],\"carpet\":[{\"aaxis\":{\"endlinecolor\":\"#2a3f5f\",\"gridcolor\":\"white\",\"linecolor\":\"white\",\"minorgridcolor\":\"white\",\"startlinecolor\":\"#2a3f5f\"},\"baxis\":{\"endlinecolor\":\"#2a3f5f\",\"gridcolor\":\"white\",\"linecolor\":\"white\",\"minorgridcolor\":\"white\",\"startlinecolor\":\"#2a3f5f\"},\"type\":\"carpet\"}],\"table\":[{\"cells\":{\"fill\":{\"color\":\"#EBF0F8\"},\"line\":{\"color\":\"white\"}},\"header\":{\"fill\":{\"color\":\"#C8D4E3\"},\"line\":{\"color\":\"white\"}},\"type\":\"table\"}],\"barpolar\":[{\"marker\":{\"line\":{\"color\":\"#E5ECF6\",\"width\":0.5},\"pattern\":{\"fillmode\":\"overlay\",\"size\":10,\"solidity\":0.2}},\"type\":\"barpolar\"}],\"pie\":[{\"automargin\":true,\"type\":\"pie\"}]},\"layout\":{\"autotypenumbers\":\"strict\",\"colorway\":[\"#636efa\",\"#EF553B\",\"#00cc96\",\"#ab63fa\",\"#FFA15A\",\"#19d3f3\",\"#FF6692\",\"#B6E880\",\"#FF97FF\",\"#FECB52\"],\"font\":{\"color\":\"#2a3f5f\"},\"hovermode\":\"closest\",\"hoverlabel\":{\"align\":\"left\"},\"paper_bgcolor\":\"white\",\"plot_bgcolor\":\"#E5ECF6\",\"polar\":{\"bgcolor\":\"#E5ECF6\",\"angularaxis\":{\"gridcolor\":\"white\",\"linecolor\":\"white\",\"ticks\":\"\"},\"radialaxis\":{\"gridcolor\":\"white\",\"linecolor\":\"white\",\"ticks\":\"\"}},\"ternary\":{\"bgcolor\":\"#E5ECF6\",\"aaxis\":{\"gridcolor\":\"white\",\"linecolor\":\"white\",\"ticks\":\"\"},\"baxis\":{\"gridcolor\":\"white\",\"linecolor\":\"white\",\"ticks\":\"\"},\"caxis\":{\"gridcolor\":\"white\",\"linecolor\":\"white\",\"ticks\":\"\"}},\"coloraxis\":{\"colorbar\":{\"outlinewidth\":0,\"ticks\":\"\"}},\"colorscale\":{\"sequential\":[[0.0,\"#0d0887\"],[0.1111111111111111,\"#46039f\"],[0.2222222222222222,\"#7201a8\"],[0.3333333333333333,\"#9c179e\"],[0.4444444444444444,\"#bd3786\"],[0.5555555555555556,\"#d8576b\"],[0.6666666666666666,\"#ed7953\"],[0.7777777777777778,\"#fb9f3a\"],[0.8888888888888888,\"#fdca26\"],[1.0,\"#f0f921\"]],\"sequentialminus\":[[0.0,\"#0d0887\"],[0.1111111111111111,\"#46039f\"],[0.2222222222222222,\"#7201a8\"],[0.3333333333333333,\"#9c179e\"],[0.4444444444444444,\"#bd3786\"],[0.5555555555555556,\"#d8576b\"],[0.6666666666666666,\"#ed7953\"],[0.7777777777777778,\"#fb9f3a\"],[0.8888888888888888,\"#fdca26\"],[1.0,\"#f0f921\"]],\"diverging\":[[0,\"#8e0152\"],[0.1,\"#c51b7d\"],[0.2,\"#de77ae\"],[0.3,\"#f1b6da\"],[0.4,\"#fde0ef\"],[0.5,\"#f7f7f7\"],[0.6,\"#e6f5d0\"],[0.7,\"#b8e186\"],[0.8,\"#7fbc41\"],[0.9,\"#4d9221\"],[1,\"#276419\"]]},\"xaxis\":{\"gridcolor\":\"white\",\"linecolor\":\"white\",\"ticks\":\"\",\"title\":{\"standoff\":15},\"zerolinecolor\":\"white\",\"automargin\":true,\"zerolinewidth\":2},\"yaxis\":{\"gridcolor\":\"white\",\"linecolor\":\"white\",\"ticks\":\"\",\"title\":{\"standoff\":15},\"zerolinecolor\":\"white\",\"automargin\":true,\"zerolinewidth\":2},\"scene\":{\"xaxis\":{\"backgroundcolor\":\"#E5ECF6\",\"gridcolor\":\"white\",\"linecolor\":\"white\",\"showbackground\":true,\"ticks\":\"\",\"zerolinecolor\":\"white\",\"gridwidth\":2},\"yaxis\":{\"backgroundcolor\":\"#E5ECF6\",\"gridcolor\":\"white\",\"linecolor\":\"white\",\"showbackground\":true,\"ticks\":\"\",\"zerolinecolor\":\"white\",\"gridwidth\":2},\"zaxis\":{\"backgroundcolor\":\"#E5ECF6\",\"gridcolor\":\"white\",\"linecolor\":\"white\",\"showbackground\":true,\"ticks\":\"\",\"zerolinecolor\":\"white\",\"gridwidth\":2}},\"shapedefaults\":{\"line\":{\"color\":\"#2a3f5f\"}},\"annotationdefaults\":{\"arrowcolor\":\"#2a3f5f\",\"arrowhead\":0,\"arrowwidth\":1},\"geo\":{\"bgcolor\":\"white\",\"landcolor\":\"#E5ECF6\",\"subunitcolor\":\"white\",\"showland\":true,\"showlakes\":true,\"lakecolor\":\"white\"},\"title\":{\"x\":0.05},\"mapbox\":{\"style\":\"light\"}}},\"title\":{\"text\":\"3D PCA Plot\"},\"scene\":{\"xaxis\":{\"title\":{\"text\":\"Principal Component 1 (PC1)\"}},\"yaxis\":{\"title\":{\"text\":\"Principal Component 2 (PC2)\"}},\"zaxis\":{\"title\":{\"text\":\"Principal Component 3 (PC3)\"}}},\"width\":800,\"height\":600},                        {\"responsive\": true}                    ).then(function(){\n",
       "                            \n",
       "var gd = document.getElementById('d91e73b8-d050-4d85-8267-5daa8e06c956');\n",
       "var x = new MutationObserver(function (mutations, observer) {{\n",
       "        var display = window.getComputedStyle(gd).display;\n",
       "        if (!display || display === 'none') {{\n",
       "            console.log([gd, 'removed!']);\n",
       "            Plotly.purge(gd);\n",
       "            observer.disconnect();\n",
       "        }}\n",
       "}});\n",
       "\n",
       "// Listen for the removal of the full notebook cells\n",
       "var notebookContainer = gd.closest('#notebook-container');\n",
       "if (notebookContainer) {{\n",
       "    x.observe(notebookContainer, {childList: true});\n",
       "}}\n",
       "\n",
       "// Listen for the clearing of the current output cell\n",
       "var outputEl = gd.closest('.output');\n",
       "if (outputEl) {{\n",
       "    x.observe(outputEl, {childList: true});\n",
       "}}\n",
       "\n",
       "                        })                };                });            </script>        </div>"
      ]
     },
     "metadata": {},
     "output_type": "display_data"
    }
   ],
   "source": [
    "fig = go.Figure(data=[go.Scatter3d(\n",
    "    x=result['PC1'],  # x-axis values\n",
    "    y=result['PC2'],  # y-axis values\n",
    "    z=result['PC3'],  # z-axis values\n",
    "    mode='markers'    # Display as scatter plot\n",
    ")])\n",
    "\n",
    "# Update layout: add title, axis labels, and adjust plot size\n",
    "fig.update_layout(\n",
    "    title=\"3D PCA Plot\",  # Title of the plot\n",
    "    scene=dict(\n",
    "        xaxis=dict(title='Principal Component 1 (PC1)'),  # Label for x-axis\n",
    "        yaxis=dict(title='Principal Component 2 (PC2)'),  # Label for y-axis\n",
    "        zaxis=dict(title='Principal Component 3 (PC3)'),  # Label for z-axis\n",
    "    ),\n",
    "    width=800,  # Set width of the plot\n",
    "    height=600, # Set height of the plot\n",
    ")\n",
    "\n",
    "# Show the plot\n",
    "fig.show()"
   ]
  },
  {
   "cell_type": "code",
   "execution_count": null,
   "id": "10f66cfa-626e-40de-bf7d-2e5ea09ed799",
   "metadata": {},
   "outputs": [],
   "source": []
  }
 ],
 "metadata": {
  "kernelspec": {
   "display_name": "Python 3 (ipykernel)",
   "language": "python",
   "name": "python3"
  },
  "language_info": {
   "codemirror_mode": {
    "name": "ipython",
    "version": 3
   },
   "file_extension": ".py",
   "mimetype": "text/x-python",
   "name": "python",
   "nbconvert_exporter": "python",
   "pygments_lexer": "ipython3",
   "version": "3.10.14"
  }
 },
 "nbformat": 4,
 "nbformat_minor": 5
}
